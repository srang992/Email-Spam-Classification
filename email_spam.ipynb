{
 "cells": [
  {
   "cell_type": "code",
   "execution_count": null,
   "outputs": [],
   "source": [
    "import pandas as pd"
   ],
   "metadata": {
    "collapsed": false,
    "pycharm": {
     "name": "#%%\n"
    }
   }
  },
  {
   "cell_type": "code",
   "execution_count": null,
   "outputs": [],
   "source": [
    "email_data = pd.read_csv(\"main_data_nodup.csv\", usecols=['label_num', 'good_text'])\n",
    "email_data"
   ],
   "metadata": {
    "collapsed": false,
    "pycharm": {
     "name": "#%%\n"
    }
   }
  },
  {
   "cell_type": "code",
   "execution_count": null,
   "outputs": [],
   "source": [
    "test_data = pd.read_csv(\"test_data.csv\")\n",
    "test_data"
   ],
   "metadata": {
    "collapsed": false,
    "pycharm": {
     "name": "#%%\n"
    }
   }
  },
  {
   "cell_type": "code",
   "execution_count": null,
   "outputs": [],
   "source": [
    "test_data.text[3]"
   ],
   "metadata": {
    "collapsed": false,
    "pycharm": {
     "name": "#%%\n"
    }
   }
  },
  {
   "cell_type": "code",
   "execution_count": null,
   "outputs": [],
   "source": [
    "import re\n",
    "s = re.sub('[^a-zA-z,]', \" \", test_data.text[3])\n",
    "s"
   ],
   "metadata": {
    "collapsed": false,
    "pycharm": {
     "name": "#%%\n"
    }
   }
  },
  {
   "cell_type": "code",
   "execution_count": null,
   "outputs": [],
   "source": [
    "from functions import *"
   ],
   "metadata": {
    "collapsed": false,
    "pycharm": {
     "name": "#%%\n"
    }
   }
  },
  {
   "cell_type": "code",
   "execution_count": null,
   "outputs": [],
   "source": [
    "dupli_action = ActionOnDuplicates(test_data)\n",
    "duplicated_data = dupli_action.check_duplicates(['text'])\n",
    "duplicated_data"
   ],
   "metadata": {
    "collapsed": false,
    "pycharm": {
     "name": "#%%\n"
    }
   }
  },
  {
   "cell_type": "code",
   "execution_count": null,
   "outputs": [],
   "source": [
    "test_data.text[0]"
   ],
   "metadata": {
    "collapsed": false,
    "pycharm": {
     "name": "#%%\n"
    }
   }
  },
  {
   "cell_type": "code",
   "execution_count": null,
   "outputs": [],
   "source": [
    "primary_text_preprocess = PrimaryTextPreprocess()\n",
    "test_data['text'] = test_data['text'].apply(primary_text_preprocess.primary_cleaning)"
   ],
   "metadata": {
    "collapsed": false,
    "pycharm": {
     "name": "#%%\n"
    }
   }
  },
  {
   "cell_type": "code",
   "execution_count": null,
   "outputs": [],
   "source": [
    "test_data.text[0]"
   ],
   "metadata": {
    "collapsed": false,
    "pycharm": {
     "name": "#%%\n"
    }
   }
  },
  {
   "cell_type": "code",
   "execution_count": null,
   "outputs": [],
   "source": [
    "import spacy\n",
    "nlp = spacy.load('en_core_web_lg')"
   ],
   "metadata": {
    "collapsed": false,
    "pycharm": {
     "name": "#%%\n"
    }
   }
  },
  {
   "cell_type": "code",
   "execution_count": null,
   "outputs": [],
   "source": [
    "from spacy import displacy\n",
    "doc = nlp(test_data.text[3])\n",
    "displacy.render(doc, style='ent', jupyter=True)"
   ],
   "metadata": {
    "collapsed": false,
    "pycharm": {
     "name": "#%%\n"
    }
   }
  },
  {
   "cell_type": "code",
   "execution_count": null,
   "outputs": [],
   "source": [
    "from spacy.matcher import Matcher\n",
    "matcher = Matcher(nlp.vocab)\n",
    "pattern = [{'IS_DIGIT': True}, {'IS_DIGIT': True}, {'LOWER':{'REGEX': \"^[ap]m$\"}}]\n",
    "matcher.add('CUSTOM_TIME', [pattern])\n",
    "\n",
    "matches = matcher(doc)\n",
    "print([doc[start:end] for match_id, start, end in matches])"
   ],
   "metadata": {
    "collapsed": false,
    "pycharm": {
     "name": "#%%\n"
    }
   }
  },
  {
   "cell_type": "code",
   "execution_count": null,
   "outputs": [],
   "source": [
    "nlp.remove_pipe('entity_ruler')"
   ],
   "metadata": {
    "collapsed": false,
    "pycharm": {
     "name": "#%%\n"
    }
   }
  },
  {
   "cell_type": "code",
   "execution_count": null,
   "outputs": [],
   "source": [
    "ruler = nlp.add_pipe('entity_ruler', before='ner')\n",
    "ruler.add_patterns([{\"label\":\"CUSTOM_TIME\",\n",
    "                     \"pattern\":[{'IS_DIGIT': True}, {'IS_DIGIT': True}, {'LOWER':{'REGEX': \"^[ap]m$\"}}]}])\n",
    "nlp.pipe_names"
   ],
   "metadata": {
    "collapsed": false,
    "pycharm": {
     "name": "#%%\n"
    }
   }
  },
  {
   "cell_type": "code",
   "execution_count": null,
   "outputs": [],
   "source": [
    "doc = nlp(test_data.text[3])"
   ],
   "metadata": {
    "collapsed": false,
    "pycharm": {
     "name": "#%%\n"
    }
   }
  },
  {
   "cell_type": "code",
   "execution_count": null,
   "outputs": [],
   "source": [
    "displacy.render(doc, style='ent', jupyter=True)"
   ],
   "metadata": {
    "collapsed": false,
    "pycharm": {
     "name": "#%%\n"
    }
   }
  },
  {
   "cell_type": "code",
   "execution_count": null,
   "outputs": [],
   "source": [
    "for token in doc:\n",
    "    print(token.text, token.pos_)"
   ],
   "metadata": {
    "collapsed": false,
    "pycharm": {
     "name": "#%%\n"
    }
   }
  },
  {
   "cell_type": "code",
   "execution_count": null,
   "outputs": [],
   "source": [
    "pattern = [{\"POS\": \"PROPN\"}, {\"POS\": \"PROPN\"}]\n",
    "matcher.add('CUSTOM_TIME', [pattern])\n",
    "\n",
    "matches = matcher(doc)\n",
    "print([doc[start:end] for match_id, start, end in matches])"
   ],
   "metadata": {
    "collapsed": false,
    "pycharm": {
     "name": "#%%\n"
    }
   }
  },
  {
   "cell_type": "code",
   "execution_count": 36,
   "outputs": [
    {
     "data": {
      "text/plain": "('entity_ruler', <spacy.pipeline.entityruler.EntityRuler at 0x18f44dc57c8>)"
     },
     "execution_count": 36,
     "metadata": {},
     "output_type": "execute_result"
    }
   ],
   "source": [
    "nlp.remove_pipe('entity_ruler')"
   ],
   "metadata": {
    "collapsed": false,
    "pycharm": {
     "name": "#%%\n"
    }
   }
  },
  {
   "cell_type": "code",
   "execution_count": 37,
   "outputs": [
    {
     "data": {
      "text/plain": "['tok2vec',\n 'tagger',\n 'parser',\n 'attribute_ruler',\n 'lemmatizer',\n 'entity_ruler',\n 'ner']"
     },
     "execution_count": 37,
     "metadata": {},
     "output_type": "execute_result"
    }
   ],
   "source": [
    "ruler = nlp.add_pipe('entity_ruler', before='ner')\n",
    "ruler.add_patterns([{\"label\":\"CUSTOM_TIME\",\n",
    "                     \"pattern\":[{'IS_DIGIT': True}, {'IS_DIGIT': True}, {'LOWER':{'REGEX': \"^[ap]m$\"}}]}])\n",
    "nlp.pipe_names"
   ],
   "metadata": {
    "collapsed": false,
    "pycharm": {
     "name": "#%%\n"
    }
   }
  },
  {
   "cell_type": "code",
   "execution_count": 40,
   "outputs": [],
   "source": [
    "doc = nlp(test_data.text[3])"
   ],
   "metadata": {
    "collapsed": false,
    "pycharm": {
     "name": "#%%\n"
    }
   }
  },
  {
   "cell_type": "code",
   "execution_count": 41,
   "metadata": {
    "pycharm": {
     "name": "#%%\n"
    }
   },
   "outputs": [
    {
     "data": {
      "text/plain": "<IPython.core.display.HTML object>",
      "text/html": "<span class=\"tex2jax_ignore\"><div class=\"entities\" style=\"line-height: 2.5; direction: ltr\">kind of neat alumni original message from \n<mark class=\"entity\" style=\"background: #aa9cfc; padding: 0.45em 0.6em; margin: 0 0.25em; line-height: 1; border-radius: 0.35em;\">\n    fletcher thomas\n    <span style=\"font-size: 0.8em; font-weight: bold; line-height: 1; border-radius: 0.35em; vertical-align: middle; margin-left: 0.5rem\">PERSON</span>\n</mark>\n sent \n<mark class=\"entity\" style=\"background: #bfe1d9; padding: 0.45em 0.6em; margin: 0 0.25em; line-height: 1; border-radius: 0.35em;\">\n    thursday july 13 2000\n    <span style=\"font-size: 0.8em; font-weight: bold; line-height: 1; border-radius: 0.35em; vertical-align: middle; margin-left: 0.5rem\">DATE</span>\n</mark>\n \n<mark class=\"entity\" style=\"background: #ddd; padding: 0.45em 0.6em; margin: 0 0.25em; line-height: 1; border-radius: 0.35em;\">\n    8 42 am\n    <span style=\"font-size: 0.8em; font-weight: bold; line-height: 1; border-radius: 0.35em; vertical-align: middle; margin-left: 0.5rem\">CUSTOM_TIME</span>\n</mark>\n to \n<mark class=\"entity\" style=\"background: #aa9cfc; padding: 0.45em 0.6em; margin: 0 0.25em; line-height: 1; border-radius: 0.35em;\">\n    walker cole\n    <span style=\"font-size: 0.8em; font-weight: bold; line-height: 1; border-radius: 0.35em; vertical-align: middle; margin-left: 0.5rem\">PERSON</span>\n</mark>\n \n<mark class=\"entity\" style=\"background: #aa9cfc; padding: 0.45em 0.6em; margin: 0 0.25em; line-height: 1; border-radius: 0.35em;\">\n    jackson todd abbott\n    <span style=\"font-size: 0.8em; font-weight: bold; line-height: 1; border-radius: 0.35em; vertical-align: middle; margin-left: 0.5rem\">PERSON</span>\n</mark>\n \n<mark class=\"entity\" style=\"background: #aa9cfc; padding: 0.45em 0.6em; margin: 0 0.25em; line-height: 1; border-radius: 0.35em;\">\n    todd susie catherine\n    <span style=\"font-size: 0.8em; font-weight: bold; line-height: 1; border-radius: 0.35em; vertical-align: middle; margin-left: 0.5rem\">PERSON</span>\n</mark>\n weygandt \n<mark class=\"entity\" style=\"background: #aa9cfc; padding: 0.45em 0.6em; margin: 0 0.25em; line-height: 1; border-radius: 0.35em;\">\n    andrew dewey\n    <span style=\"font-size: 0.8em; font-weight: bold; line-height: 1; border-radius: 0.35em; vertical-align: middle; margin-left: 0.5rem\">PERSON</span>\n</mark>\n \n<mark class=\"entity\" style=\"background: #aa9cfc; padding: 0.45em 0.6em; margin: 0 0.25em; line-height: 1; border-radius: 0.35em;\">\n    daniel glover\n    <span style=\"font-size: 0.8em; font-weight: bold; line-height: 1; border-radius: 0.35em; vertical-align: middle; margin-left: 0.5rem\">PERSON</span>\n</mark>\n rusty beard jaime subject kind of neat alumni original message from \n<mark class=\"entity\" style=\"background: #aa9cfc; padding: 0.45em 0.6em; margin: 0 0.25em; line-height: 1; border-radius: 0.35em;\">\n    eric wilson mailto\n    <span style=\"font-size: 0.8em; font-weight: bold; line-height: 1; border-radius: 0.35em; vertical-align: middle; margin-left: 0.5rem\">PERSON</span>\n</mark>\n ebwilson \n<mark class=\"entity\" style=\"background: #e4e7d2; padding: 0.45em 0.6em; margin: 0 0.25em; line-height: 1; border-radius: 0.35em;\">\n    72\n    <span style=\"font-size: 0.8em; font-weight: bold; line-height: 1; border-radius: 0.35em; vertical-align: middle; margin-left: 0.5rem\">CARDINAL</span>\n</mark>\n hotmail com sent \n<mark class=\"entity\" style=\"background: #bfe1d9; padding: 0.45em 0.6em; margin: 0 0.25em; line-height: 1; border-radius: 0.35em;\">\n    wednesday july 12 2000\n    <span style=\"font-size: 0.8em; font-weight: bold; line-height: 1; border-radius: 0.35em; vertical-align: middle; margin-left: 0.5rem\">DATE</span>\n</mark>\n \n<mark class=\"entity\" style=\"background: #ddd; padding: 0.45em 0.6em; margin: 0 0.25em; line-height: 1; border-radius: 0.35em;\">\n    5 13 pm\n    <span style=\"font-size: 0.8em; font-weight: bold; line-height: 1; border-radius: 0.35em; vertical-align: middle; margin-left: 0.5rem\">CUSTOM_TIME</span>\n</mark>\n subject fwd kind of neat alumni from \n<mark class=\"entity\" style=\"background: #aa9cfc; padding: 0.45em 0.6em; margin: 0 0.25em; line-height: 1; border-radius: 0.35em;\">\n    jana haggard\n    <span style=\"font-size: 0.8em; font-weight: bold; line-height: 1; border-radius: 0.35em; vertical-align: middle; margin-left: 0.5rem\">PERSON</span>\n</mark>\n to \n<mark class=\"entity\" style=\"background: #aa9cfc; padding: 0.45em 0.6em; margin: 0 0.25em; line-height: 1; border-radius: 0.35em;\">\n    eve marek\n    <span style=\"font-size: 0.8em; font-weight: bold; line-height: 1; border-radius: 0.35em; vertical-align: middle; margin-left: 0.5rem\">PERSON</span>\n</mark>\n wcom com \n<mark class=\"entity\" style=\"background: #aa9cfc; padding: 0.45em 0.6em; margin: 0 0.25em; line-height: 1; border-radius: 0.35em;\">\n    charlottehamil hotmail\n    <span style=\"font-size: 0.8em; font-weight: bold; line-height: 1; border-radius: 0.35em; vertical-align: middle; margin-left: 0.5rem\">PERSON</span>\n</mark>\n com coreyswift hotmail com ebwilson \n<mark class=\"entity\" style=\"background: #e4e7d2; padding: 0.45em 0.6em; margin: 0 0.25em; line-height: 1; border-radius: 0.35em;\">\n    72\n    <span style=\"font-size: 0.8em; font-weight: bold; line-height: 1; border-radius: 0.35em; vertical-align: middle; margin-left: 0.5rem\">CARDINAL</span>\n</mark>\n hotmail com \n<mark class=\"entity\" style=\"background: #aa9cfc; padding: 0.45em 0.6em; margin: 0 0.25em; line-height: 1; border-radius: 0.35em;\">\n    adflower hotmail\n    <span style=\"font-size: 0.8em; font-weight: bold; line-height: 1; border-radius: 0.35em; vertical-align: middle; margin-left: 0.5rem\">PERSON</span>\n</mark>\n com leslye netcommander com subject fwd kind of neat alumni date thu \n<mark class=\"entity\" style=\"background: #bfe1d9; padding: 0.45em 0.6em; margin: 0 0.25em; line-height: 1; border-radius: 0.35em;\">\n    06 jul 2000\n    <span style=\"font-size: 0.8em; font-weight: bold; line-height: 1; border-radius: 0.35em; vertical-align: middle; margin-left: 0.5rem\">DATE</span>\n</mark>\n 06 42 12 pdt someone has put together a listing of every high school in \n<mark class=\"entity\" style=\"background: #feca74; padding: 0.45em 0.6em; margin: 0 0.25em; line-height: 1; border-radius: 0.35em;\">\n    america\n    <span style=\"font-size: 0.8em; font-weight: bold; line-height: 1; border-radius: 0.35em; vertical-align: middle; margin-left: 0.5rem\">GPE</span>\n</mark>\n you go to your state pick your city then pick your school and year and add your name and contact point and you can contact anyone from your class that is already there whoever did this was very thorough http www highschoolalumni com be sure to forward this to everyone you know the more people you send it to the faster this website grows and the quicker you find your former classmates phillipines \n<mark class=\"entity\" style=\"background: #e4e7d2; padding: 0.45em 0.6em; margin: 0 0.25em; line-height: 1; border-radius: 0.35em;\">\n    4 13\n    <span style=\"font-size: 0.8em; font-weight: bold; line-height: 1; border-radius: 0.35em; vertical-align: middle; margin-left: 0.5rem\">CARDINAL</span>\n</mark>\n \n<mark class=\"entity\" style=\"background: #aa9cfc; padding: 0.45em 0.6em; margin: 0 0.25em; line-height: 1; border-radius: 0.35em;\">\n    rick reding rdreding hotmail\n    <span style=\"font-size: 0.8em; font-weight: bold; line-height: 1; border-radius: 0.35em; vertical-align: middle; margin-left: 0.5rem\">PERSON</span>\n</mark>\n com reding _ videography prodigy net get your private free e mail from \n<mark class=\"entity\" style=\"background: #7aecec; padding: 0.45em 0.6em; margin: 0 0.25em; line-height: 1; border-radius: 0.35em;\">\n    msn hotmail\n    <span style=\"font-size: 0.8em; font-weight: bold; line-height: 1; border-radius: 0.35em; vertical-align: middle; margin-left: 0.5rem\">ORG</span>\n</mark>\n at http www hotmail com</div></span>"
     },
     "metadata": {},
     "output_type": "display_data"
    }
   ],
   "source": [
    "displacy.render(doc, style='ent', jupyter=True)"
   ]
  },
  {
   "cell_type": "code",
   "execution_count": 42,
   "outputs": [
    {
     "name": "stdout",
     "output_type": "stream",
     "text": [
      "kind ADV\n",
      "of ADV\n",
      "neat ADJ\n",
      "alumni NOUN\n",
      "original ADJ\n",
      "message NOUN\n",
      "from ADP\n",
      "fletcher PROPN\n",
      "thomas PROPN\n",
      "sent VERB\n",
      "thursday PROPN\n",
      "july PROPN\n",
      "13 NUM\n",
      "2000 NUM\n",
      "8 NUM\n",
      "42 NUM\n",
      "am AUX\n",
      "to ADP\n",
      "walker PROPN\n",
      "cole PROPN\n",
      "jackson PROPN\n",
      "todd PROPN\n",
      "abbott PROPN\n",
      "todd PROPN\n",
      "susie PROPN\n",
      "catherine PROPN\n",
      "weygandt PROPN\n",
      "andrew PROPN\n",
      "dewey PROPN\n",
      "daniel PROPN\n",
      "glover PROPN\n",
      "rusty PROPN\n",
      "beard PROPN\n",
      "jaime PROPN\n",
      "subject PROPN\n",
      "kind ADV\n",
      "of ADV\n",
      "neat ADJ\n",
      "alumni NOUN\n",
      "original ADJ\n",
      "message NOUN\n",
      "from ADP\n",
      "eric PROPN\n",
      "wilson PROPN\n",
      "mailto PROPN\n",
      "ebwilson PROPN\n",
      "72 NUM\n",
      "hotmail NOUN\n",
      "com NOUN\n",
      "sent VERB\n",
      "wednesday PROPN\n",
      "july PROPN\n",
      "12 NUM\n",
      "2000 NUM\n",
      "5 NUM\n",
      "13 NUM\n",
      "pm NOUN\n",
      "subject ADJ\n",
      "fwd ADP\n",
      "kind ADV\n",
      "of ADV\n",
      "neat ADJ\n",
      "alumni NOUN\n",
      "from ADP\n",
      "jana PROPN\n",
      "haggard PROPN\n",
      "to PART\n",
      "eve PROPN\n",
      "marek PROPN\n",
      "wcom PROPN\n",
      "com PROPN\n",
      "charlottehamil NOUN\n",
      "hotmail NOUN\n",
      "com NOUN\n",
      "coreyswift NOUN\n",
      "hotmail NOUN\n",
      "com NOUN\n",
      "ebwilson NOUN\n",
      "72 NUM\n",
      "hotmail NOUN\n",
      "com NOUN\n",
      "adflower NOUN\n",
      "hotmail PROPN\n",
      "com PROPN\n",
      "leslye PROPN\n",
      "netcommander NOUN\n",
      "com NOUN\n",
      "subject NOUN\n",
      "fwd ADP\n",
      "kind ADV\n",
      "of ADV\n",
      "neat ADJ\n",
      "alumni NOUN\n",
      "date PROPN\n",
      "thu PROPN\n",
      "06 NUM\n",
      "jul PROPN\n",
      "2000 NUM\n",
      "06 NUM\n",
      "42 NUM\n",
      "12 NUM\n",
      "pdt NOUN\n",
      "someone PRON\n",
      "has AUX\n",
      "put VERB\n",
      "together ADV\n",
      "a DET\n",
      "listing NOUN\n",
      "of ADP\n",
      "every DET\n",
      "high ADJ\n",
      "school NOUN\n",
      "in ADP\n",
      "america PROPN\n",
      "you PRON\n",
      "go VERB\n",
      "to ADP\n",
      "your PRON\n",
      "state NOUN\n",
      "pick VERB\n",
      "your PRON\n",
      "city NOUN\n",
      "then ADV\n",
      "pick VERB\n",
      "your PRON\n",
      "school NOUN\n",
      "and CCONJ\n",
      "year NOUN\n",
      "and CCONJ\n",
      "add VERB\n",
      "your PRON\n",
      "name NOUN\n",
      "and CCONJ\n",
      "contact NOUN\n",
      "point NOUN\n",
      "and CCONJ\n",
      "you PRON\n",
      "can AUX\n",
      "contact VERB\n",
      "anyone PRON\n",
      "from ADP\n",
      "your PRON\n",
      "class NOUN\n",
      "that PRON\n",
      "is AUX\n",
      "already ADV\n",
      "there ADV\n",
      "whoever PRON\n",
      "did VERB\n",
      "this PRON\n",
      "was AUX\n",
      "very ADV\n",
      "thorough ADJ\n",
      "http NOUN\n",
      "www PROPN\n",
      "highschoolalumni NOUN\n",
      "com NOUN\n",
      "be AUX\n",
      "sure ADJ\n",
      "to PART\n",
      "forward VERB\n",
      "this PRON\n",
      "to ADP\n",
      "everyone PRON\n",
      "you PRON\n",
      "know VERB\n",
      "the DET\n",
      "more ADJ\n",
      "people NOUN\n",
      "you PRON\n",
      "send VERB\n",
      "it PRON\n",
      "to ADP\n",
      "the DET\n",
      "faster ADJ\n",
      "this DET\n",
      "website NOUN\n",
      "grows VERB\n",
      "and CCONJ\n",
      "the PRON\n",
      "quicker ADV\n",
      "you PRON\n",
      "find VERB\n",
      "your PRON\n",
      "former ADJ\n",
      "classmates NOUN\n",
      "phillipines PROPN\n",
      "4 NUM\n",
      "13 NUM\n",
      "rick PROPN\n",
      "reding PROPN\n",
      "rdreding VERB\n",
      "hotmail PROPN\n",
      "com NOUN\n",
      "reding VERB\n",
      "_ PROPN\n",
      "videography NOUN\n",
      "prodigy NOUN\n",
      "net NOUN\n",
      "get VERB\n",
      "your PRON\n",
      "private ADJ\n",
      "free ADJ\n",
      "e NOUN\n",
      "mail NOUN\n",
      "from ADP\n",
      "msn PROPN\n",
      "hotmail PROPN\n",
      "at ADP\n",
      "http PROPN\n",
      "www PROPN\n",
      "hotmail PROPN\n",
      "com NOUN\n"
     ]
    }
   ],
   "source": [
    "for token in doc:\n",
    "    print(token.text, token.pos_)"
   ],
   "metadata": {
    "collapsed": false,
    "pycharm": {
     "name": "#%%\n"
    }
   }
  },
  {
   "cell_type": "code",
   "execution_count": 46,
   "outputs": [
    {
     "name": "stdout",
     "output_type": "stream",
     "text": [
      "[fletcher thomas, thursday july, 8 42 am, walker cole, cole jackson, jackson todd, todd abbott, abbott todd, todd susie, susie catherine, catherine weygandt, weygandt andrew, andrew dewey, dewey daniel, daniel glover, glover rusty, rusty beard, beard jaime, jaime subject, eric wilson, wilson mailto, mailto ebwilson, wednesday july, 5 13 pm, jana haggard, eve marek, marek wcom, wcom com, hotmail com, com leslye, date thu, rick reding, msn hotmail, http www, www hotmail]\n"
     ]
    }
   ],
   "source": [
    "pattern = [{\"POS\": \"PROPN\"}, {\"POS\": \"PROPN\"}]\n",
    "matcher.add('CUSTOM_TIME', [pattern])\n",
    "\n",
    "matches = matcher(doc)\n",
    "print([doc[start:end] for match_id, start, end in matches])"
   ],
   "metadata": {
    "collapsed": false,
    "pycharm": {
     "name": "#%%\n"
    }
   }
  }
 ],
 "metadata": {
  "kernelspec": {
   "display_name": "Python 3 (ipykernel)",
   "language": "python",
   "name": "python3"
  },
  "language_info": {
   "codemirror_mode": {
    "name": "ipython",
    "version": 3
   },
   "file_extension": ".py",
   "mimetype": "text/x-python",
   "name": "python",
   "nbconvert_exporter": "python",
   "pygments_lexer": "ipython3",
   "version": "3.7.9"
  }
 },
 "nbformat": 4,
 "nbformat_minor": 1
}