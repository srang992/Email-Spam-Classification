{
 "cells": [
  {
   "cell_type": "code",
   "execution_count": 1,
   "metadata": {
    "id": "lHMe1S7OrO2j",
    "pycharm": {
     "name": "#%%\n"
    }
   },
   "outputs": [],
   "source": [
    "import pandas as pd\n",
    "import nltk\n",
    "import warnings\n",
    "warnings.filterwarnings('ignore')\n",
    "# nltk.download(['punkt', 'stopwords'])"
   ]
  },
  {
   "cell_type": "code",
   "execution_count": 2,
   "outputs": [],
   "source": [
    "import spacy\n",
    "from spacy import displacy\n",
    "nlp = spacy.load('en_core_web_lg')"
   ],
   "metadata": {
    "collapsed": false,
    "pycharm": {
     "name": "#%%\n"
    }
   }
  },
  {
   "cell_type": "code",
   "execution_count": 3,
   "metadata": {
    "id": "954pEbXrrdV_",
    "pycharm": {
     "name": "#%%\n"
    }
   },
   "outputs": [],
   "source": [
    "email_data=pd.read_csv(\"spam_ham_dataset.csv\")"
   ]
  },
  {
   "cell_type": "code",
   "execution_count": 4,
   "metadata": {
    "colab": {
     "base_uri": "https://localhost:8080/",
     "height": 204
    },
    "id": "cfM6BkbGsSiA",
    "outputId": "826d5ab1-4f99-4471-a9bb-ccea9f20435a",
    "pycharm": {
     "name": "#%%\n"
    }
   },
   "outputs": [
    {
     "data": {
      "text/plain": "   Unnamed: 0 label                                               text  \\\n0         605   ham  Subject: enron methanol ; meter # : 988291\\r\\n...   \n1        2349   ham  Subject: hpl nom for january 9 , 2001\\r\\n( see...   \n2        3624   ham  Subject: neon retreat\\r\\nho ho ho , we ' re ar...   \n3        4685  spam  Subject: photoshop , windows , office . cheap ...   \n4        2030   ham  Subject: re : indian springs\\r\\nthis deal is t...   \n\n   label_num  \n0          0  \n1          0  \n2          0  \n3          1  \n4          0  ",
      "text/html": "<div>\n<style scoped>\n    .dataframe tbody tr th:only-of-type {\n        vertical-align: middle;\n    }\n\n    .dataframe tbody tr th {\n        vertical-align: top;\n    }\n\n    .dataframe thead th {\n        text-align: right;\n    }\n</style>\n<table border=\"1\" class=\"dataframe\">\n  <thead>\n    <tr style=\"text-align: right;\">\n      <th></th>\n      <th>Unnamed: 0</th>\n      <th>label</th>\n      <th>text</th>\n      <th>label_num</th>\n    </tr>\n  </thead>\n  <tbody>\n    <tr>\n      <th>0</th>\n      <td>605</td>\n      <td>ham</td>\n      <td>Subject: enron methanol ; meter # : 988291\\r\\n...</td>\n      <td>0</td>\n    </tr>\n    <tr>\n      <th>1</th>\n      <td>2349</td>\n      <td>ham</td>\n      <td>Subject: hpl nom for january 9 , 2001\\r\\n( see...</td>\n      <td>0</td>\n    </tr>\n    <tr>\n      <th>2</th>\n      <td>3624</td>\n      <td>ham</td>\n      <td>Subject: neon retreat\\r\\nho ho ho , we ' re ar...</td>\n      <td>0</td>\n    </tr>\n    <tr>\n      <th>3</th>\n      <td>4685</td>\n      <td>spam</td>\n      <td>Subject: photoshop , windows , office . cheap ...</td>\n      <td>1</td>\n    </tr>\n    <tr>\n      <th>4</th>\n      <td>2030</td>\n      <td>ham</td>\n      <td>Subject: re : indian springs\\r\\nthis deal is t...</td>\n      <td>0</td>\n    </tr>\n  </tbody>\n</table>\n</div>"
     },
     "execution_count": 4,
     "metadata": {},
     "output_type": "execute_result"
    }
   ],
   "source": [
    "email_data.head()"
   ]
  },
  {
   "cell_type": "code",
   "execution_count": 14,
   "outputs": [
    {
     "data": {
      "text/plain": "<IPython.core.display.HTML object>",
      "text/html": "<span class=\"tex2jax_ignore\"><div class=\"entities\" style=\"line-height: 2.5; direction: ltr\">Subject: fw : ercot load comparison\r</br>- - - - - original message - - - - -\r</br>from : \n<mark class=\"entity\" style=\"background: #aa9cfc; padding: 0.45em 0.6em; margin: 0 0.25em; line-height: 1; border-radius: 0.35em;\">\n    gilbert - smith\n    <span style=\"font-size: 0.8em; font-weight: bold; line-height: 1; border-radius: 0.35em; vertical-align: middle; margin-left: 0.5rem\">PERSON</span>\n</mark>\n , \n<mark class=\"entity\" style=\"background: #aa9cfc; padding: 0.45em 0.6em; margin: 0 0.25em; line-height: 1; border-radius: 0.35em;\">\n    doug\r\n\n    <span style=\"font-size: 0.8em; font-weight: bold; line-height: 1; border-radius: 0.35em; vertical-align: middle; margin-left: 0.5rem\">PERSON</span>\n</mark>\nsent : \n<mark class=\"entity\" style=\"background: #bfe1d9; padding: 0.45em 0.6em; margin: 0 0.25em; line-height: 1; border-radius: 0.35em;\">\n    tuesday\n    <span style=\"font-size: 0.8em; font-weight: bold; line-height: 1; border-radius: 0.35em; vertical-align: middle; margin-left: 0.5rem\">DATE</span>\n</mark>\n , \n<mark class=\"entity\" style=\"background: #bfe1d9; padding: 0.45em 0.6em; margin: 0 0.25em; line-height: 1; border-radius: 0.35em;\">\n    may 22 , 2001 8\n    <span style=\"font-size: 0.8em; font-weight: bold; line-height: 1; border-radius: 0.35em; vertical-align: middle; margin-left: 0.5rem\">DATE</span>\n</mark>\n : \n<mark class=\"entity\" style=\"background: #e4e7d2; padding: 0.45em 0.6em; margin: 0 0.25em; line-height: 1; border-radius: 0.35em;\">\n    38 am\r\n\n    <span style=\"font-size: 0.8em; font-weight: bold; line-height: 1; border-radius: 0.35em; vertical-align: middle; margin-left: 0.5rem\">PERCENT</span>\n</mark>\nto : tmartin @ enron . com\r</br>subject : ercot load comparison\r</br>\n<mark class=\"entity\" style=\"background: #e4e7d2; padding: 0.45em 0.6em; margin: 0 0.25em; line-height: 1; border-radius: 0.35em;\">\n    tom\n    <span style=\"font-size: 0.8em; font-weight: bold; line-height: 1; border-radius: 0.35em; vertical-align: middle; margin-left: 0.5rem\">MONEY</span>\n</mark>\n ,\r</br>here is an answer for you vis a vis load growth .\r</br>hope it helps ,\r</br>\n<mark class=\"entity\" style=\"background: #aa9cfc; padding: 0.45em 0.6em; margin: 0 0.25em; line-height: 1; border-radius: 0.35em;\">\n    doug\r\n- - - - - - - - - - - - - - - - - - - - -\n    <span style=\"font-size: 0.8em; font-weight: bold; line-height: 1; border-radius: 0.35em; vertical-align: middle; margin-left: 0.5rem\">PERSON</span>\n</mark>\n - forwarded by \n<mark class=\"entity\" style=\"background: #aa9cfc; padding: 0.45em 0.6em; margin: 0 0.25em; line-height: 1; border-radius: 0.35em;\">\n    doug gilbert - smith\n    <span style=\"font-size: 0.8em; font-weight: bold; line-height: 1; border-radius: 0.35em; vertical-align: middle; margin-left: 0.5rem\">PERSON</span>\n</mark>\n / corp / enron on 05 / 22 / 2001 08 : \n<mark class=\"entity\" style=\"background: #bfe1d9; padding: 0.45em 0.6em; margin: 0 0.25em; line-height: 1; border-radius: 0.35em;\">\n    35 am - - - - - - - - - - - - - - - - - - - - - - - - - - -\r\n\n    <span style=\"font-size: 0.8em; font-weight: bold; line-height: 1; border-radius: 0.35em; vertical-align: middle; margin-left: 0.5rem\">TIME</span>\n</mark>\nfrom : \n<mark class=\"entity\" style=\"background: #aa9cfc; padding: 0.45em 0.6em; margin: 0 0.25em; line-height: 1; border-radius: 0.35em;\">\n    kevin cline\n    <span style=\"font-size: 0.8em; font-weight: bold; line-height: 1; border-radius: 0.35em; vertical-align: middle; margin-left: 0.5rem\">PERSON</span>\n</mark>\n / enron @ enronxgate on 05 / 21 / 2001 03 : \n<mark class=\"entity\" style=\"background: #e4e7d2; padding: 0.45em 0.6em; margin: 0 0.25em; line-height: 1; border-radius: 0.35em;\">\n    26\n    <span style=\"font-size: 0.8em; font-weight: bold; line-height: 1; border-radius: 0.35em; vertical-align: middle; margin-left: 0.5rem\">CARDINAL</span>\n</mark>\n pm\r</br>to : \n<mark class=\"entity\" style=\"background: #aa9cfc; padding: 0.45em 0.6em; margin: 0 0.25em; line-height: 1; border-radius: 0.35em;\">\n    doug gilbert - smith\n    <span style=\"font-size: 0.8em; font-weight: bold; line-height: 1; border-radius: 0.35em; vertical-align: middle; margin-left: 0.5rem\">PERSON</span>\n</mark>\n / corp / enron @ enron\r</br>cc : \n<mark class=\"entity\" style=\"background: #aa9cfc; padding: 0.45em 0.6em; margin: 0 0.25em; line-height: 1; border-radius: 0.35em;\">\n    eric saibi\n    <span style=\"font-size: 0.8em; font-weight: bold; line-height: 1; border-radius: 0.35em; vertical-align: middle; margin-left: 0.5rem\">PERSON</span>\n</mark>\n / corp / enron @ enron\r</br>subject : ercot load comparison\r</br>please find attached spreadsheet that compares hot days from \n<mark class=\"entity\" style=\"background: #bfe1d9; padding: 0.45em 0.6em; margin: 0 0.25em; line-height: 1; border-radius: 0.35em;\">\n    may 2000\n    <span style=\"font-size: 0.8em; font-weight: bold; line-height: 1; border-radius: 0.35em; vertical-align: middle; margin-left: 0.5rem\">DATE</span>\n</mark>\n and \n<mark class=\"entity\" style=\"background: #bfe1d9; padding: 0.45em 0.6em; margin: 0 0.25em; line-height: 1; border-radius: 0.35em;\">\n    may 2001\n    <span style=\"font-size: 0.8em; font-weight: bold; line-height: 1; border-radius: 0.35em; vertical-align: middle; margin-left: 0.5rem\">DATE</span>\n</mark>\n . there are \n<mark class=\"entity\" style=\"background: #e4e7d2; padding: 0.45em 0.6em; margin: 0 0.25em; line-height: 1; border-radius: 0.35em;\">\n    two\n    <span style=\"font-size: 0.8em; font-weight: bold; line-height: 1; border-radius: 0.35em; vertical-align: middle; margin-left: 0.5rem\">CARDINAL</span>\n</mark>\n tabs , \n<mark class=\"entity\" style=\"background: #e4e7d2; padding: 0.45em 0.6em; margin: 0 0.25em; line-height: 1; border-radius: 0.35em;\">\n    one\n    <span style=\"font-size: 0.8em; font-weight: bold; line-height: 1; border-radius: 0.35em; vertical-align: middle; margin-left: 0.5rem\">CARDINAL</span>\n</mark>\n tab contains the days may \n<mark class=\"entity\" style=\"background: #bfe1d9; padding: 0.45em 0.6em; margin: 0 0.25em; line-height: 1; border-radius: 0.35em;\">\n    16 - 18 , 2000\n    <span style=\"font-size: 0.8em; font-weight: bold; line-height: 1; border-radius: 0.35em; vertical-align: middle; margin-left: 0.5rem\">DATE</span>\n</mark>\n and the other tab contains the days may \n<mark class=\"entity\" style=\"background: #bfe1d9; padding: 0.45em 0.6em; margin: 0 0.25em; line-height: 1; border-radius: 0.35em;\">\n    14 - 18 , 2001\n    <span style=\"font-size: 0.8em; font-weight: bold; line-height: 1; border-radius: 0.35em; vertical-align: middle; margin-left: 0.5rem\">DATE</span>\n</mark>\n . each tab contains both the load data and temp data particular to \n<mark class=\"entity\" style=\"background: #bfe1d9; padding: 0.45em 0.6em; margin: 0 0.25em; line-height: 1; border-radius: 0.35em;\">\n    the days\n    <span style=\"font-size: 0.8em; font-weight: bold; line-height: 1; border-radius: 0.35em; vertical-align: middle; margin-left: 0.5rem\">DATE</span>\n</mark>\n in question . \n<mark class=\"entity\" style=\"background: #bfe1d9; padding: 0.45em 0.6em; margin: 0 0.25em; line-height: 1; border-radius: 0.35em;\">\n    the days\n    <span style=\"font-size: 0.8em; font-weight: bold; line-height: 1; border-radius: 0.35em; vertical-align: middle; margin-left: 0.5rem\">DATE</span>\n</mark>\n most directly comparable are \n<mark class=\"entity\" style=\"background: #bfe1d9; padding: 0.45em 0.6em; margin: 0 0.25em; line-height: 1; border-radius: 0.35em;\">\n    may 17 , 2001\n    <span style=\"font-size: 0.8em; font-weight: bold; line-height: 1; border-radius: 0.35em; vertical-align: middle; margin-left: 0.5rem\">DATE</span>\n</mark>\n ( \n<mark class=\"entity\" style=\"background: #bfe1d9; padding: 0.45em 0.6em; margin: 0 0.25em; line-height: 1; border-radius: 0.35em;\">\n    thursday\n    <span style=\"font-size: 0.8em; font-weight: bold; line-height: 1; border-radius: 0.35em; vertical-align: middle; margin-left: 0.5rem\">DATE</span>\n</mark>\n ) and \n<mark class=\"entity\" style=\"background: #bfe1d9; padding: 0.45em 0.6em; margin: 0 0.25em; line-height: 1; border-radius: 0.35em;\">\n    may 18 , 2000\n    <span style=\"font-size: 0.8em; font-weight: bold; line-height: 1; border-radius: 0.35em; vertical-align: middle; margin-left: 0.5rem\">DATE</span>\n</mark>\n ( \n<mark class=\"entity\" style=\"background: #bfe1d9; padding: 0.45em 0.6em; margin: 0 0.25em; line-height: 1; border-radius: 0.35em;\">\n    thursday\n    <span style=\"font-size: 0.8em; font-weight: bold; line-height: 1; border-radius: 0.35em; vertical-align: middle; margin-left: 0.5rem\">DATE</span>\n</mark>\n ) , although \n<mark class=\"entity\" style=\"background: #bfe1d9; padding: 0.45em 0.6em; margin: 0 0.25em; line-height: 1; border-radius: 0.35em;\">\n    the two days preceding may 18 , 2000\n    <span style=\"font-size: 0.8em; font-weight: bold; line-height: 1; border-radius: 0.35em; vertical-align: middle; margin-left: 0.5rem\">DATE</span>\n</mark>\n were slightly warmer than \n<mark class=\"entity\" style=\"background: #bfe1d9; padding: 0.45em 0.6em; margin: 0 0.25em; line-height: 1; border-radius: 0.35em;\">\n    the two days preceding may 17 , 2001\n    <span style=\"font-size: 0.8em; font-weight: bold; line-height: 1; border-radius: 0.35em; vertical-align: middle; margin-left: 0.5rem\">DATE</span>\n</mark>\n . the peak on \n<mark class=\"entity\" style=\"background: #e4e7d2; padding: 0.45em 0.6em; margin: 0 0.25em; line-height: 1; border-radius: 0.35em;\">\n    5\n    <span style=\"font-size: 0.8em; font-weight: bold; line-height: 1; border-radius: 0.35em; vertical-align: middle; margin-left: 0.5rem\">CARDINAL</span>\n</mark>\n / 17 / 2001 , \n<mark class=\"entity\" style=\"background: #bfe1d9; padding: 0.45em 0.6em; margin: 0 0.25em; line-height: 1; border-radius: 0.35em;\">\n    44\n    <span style=\"font-size: 0.8em; font-weight: bold; line-height: 1; border-radius: 0.35em; vertical-align: middle; margin-left: 0.5rem\">DATE</span>\n</mark>\n , \n<mark class=\"entity\" style=\"background: #e4e7d2; padding: 0.45em 0.6em; margin: 0 0.25em; line-height: 1; border-radius: 0.35em;\">\n    923\n    <span style=\"font-size: 0.8em; font-weight: bold; line-height: 1; border-radius: 0.35em; vertical-align: middle; margin-left: 0.5rem\">CARDINAL</span>\n</mark>\n mw , is \n<mark class=\"entity\" style=\"background: #e4e7d2; padding: 0.45em 0.6em; margin: 0 0.25em; line-height: 1; border-radius: 0.35em;\">\n    2\n    <span style=\"font-size: 0.8em; font-weight: bold; line-height: 1; border-radius: 0.35em; vertical-align: middle; margin-left: 0.5rem\">CARDINAL</span>\n</mark>\n . \n<mark class=\"entity\" style=\"background: #e4e7d2; padding: 0.45em 0.6em; margin: 0 0.25em; line-height: 1; border-radius: 0.35em;\">\n    78 %\n    <span style=\"font-size: 0.8em; font-weight: bold; line-height: 1; border-radius: 0.35em; vertical-align: middle; margin-left: 0.5rem\">PERCENT</span>\n</mark>\n higher than the peak on \n<mark class=\"entity\" style=\"background: #bfe1d9; padding: 0.45em 0.6em; margin: 0 0.25em; line-height: 1; border-radius: 0.35em;\">\n    5 / 18 / 2000\n    <span style=\"font-size: 0.8em; font-weight: bold; line-height: 1; border-radius: 0.35em; vertical-align: middle; margin-left: 0.5rem\">DATE</span>\n</mark>\n , \n<mark class=\"entity\" style=\"background: #bfe1d9; padding: 0.45em 0.6em; margin: 0 0.25em; line-height: 1; border-radius: 0.35em;\">\n    43\n    <span style=\"font-size: 0.8em; font-weight: bold; line-height: 1; border-radius: 0.35em; vertical-align: middle; margin-left: 0.5rem\">DATE</span>\n</mark>\n , \n<mark class=\"entity\" style=\"background: #e4e7d2; padding: 0.45em 0.6em; margin: 0 0.25em; line-height: 1; border-radius: 0.35em;\">\n    709\n    <span style=\"font-size: 0.8em; font-weight: bold; line-height: 1; border-radius: 0.35em; vertical-align: middle; margin-left: 0.5rem\">CARDINAL</span>\n</mark>\n mw . with similarly warm \n<mark class=\"entity\" style=\"background: #bfe1d9; padding: 0.45em 0.6em; margin: 0 0.25em; line-height: 1; border-radius: 0.35em;\">\n    days\n    <span style=\"font-size: 0.8em; font-weight: bold; line-height: 1; border-radius: 0.35em; vertical-align: middle; margin-left: 0.5rem\">DATE</span>\n</mark>\n before 5 / 17 / 2001 as there were before 5 / 18 / 2000 , the peak would obviously have been even higher . this would put the year - over - year growth in excess of \n<mark class=\"entity\" style=\"background: #e4e7d2; padding: 0.45em 0.6em; margin: 0 0.25em; line-height: 1; border-radius: 0.35em;\">\n    3 %\n    <span style=\"font-size: 0.8em; font-weight: bold; line-height: 1; border-radius: 0.35em; vertical-align: middle; margin-left: 0.5rem\">PERCENT</span>\n</mark>\n . i believe this falls right in line with the growth rate \n<mark class=\"entity\" style=\"background: #bfe1d9; padding: 0.45em 0.6em; margin: 0 0.25em; line-height: 1; border-radius: 0.35em;\">\n    year\n    <span style=\"font-size: 0.8em; font-weight: bold; line-height: 1; border-radius: 0.35em; vertical-align: middle; margin-left: 0.5rem\">DATE</span>\n</mark>\n - over - year from an earlier analysis , somewhere in the range of \n<mark class=\"entity\" style=\"background: #e4e7d2; padding: 0.45em 0.6em; margin: 0 0.25em; line-height: 1; border-radius: 0.35em;\">\n    3\n    <span style=\"font-size: 0.8em; font-weight: bold; line-height: 1; border-radius: 0.35em; vertical-align: middle; margin-left: 0.5rem\">CARDINAL</span>\n</mark>\n . \n<mark class=\"entity\" style=\"background: #e4e7d2; padding: 0.45em 0.6em; margin: 0 0.25em; line-height: 1; border-radius: 0.35em;\">\n    5 % to 4 %\n    <span style=\"font-size: 0.8em; font-weight: bold; line-height: 1; border-radius: 0.35em; vertical-align: middle; margin-left: 0.5rem\">PERCENT</span>\n</mark>\n .\r</br>let me know if you have any questions or comments .</div></span>"
     },
     "metadata": {},
     "output_type": "display_data"
    }
   ],
   "source": [
    "# txt = email_data.text[20]\n",
    "# doc = nlp(txt)\n",
    "# displacy.render(doc, style='ent', jupyter=True)"
   ],
   "metadata": {
    "collapsed": false,
    "pycharm": {
     "name": "#%%\n"
    }
   }
  },
  {
   "cell_type": "code",
   "execution_count": 10,
   "metadata": {
    "colab": {
     "base_uri": "https://localhost:8080/"
    },
    "id": "fQ0B_DVhsoMN",
    "outputId": "2953467a-17ab-46c0-a829-e73c1a03b687",
    "pycharm": {
     "name": "#%%\n"
    }
   },
   "outputs": [
    {
     "name": "stdout",
     "output_type": "stream",
     "text": [
      "<class 'pandas.core.frame.DataFrame'>\n",
      "RangeIndex: 5171 entries, 0 to 5170\n",
      "Data columns (total 4 columns):\n",
      " #   Column      Non-Null Count  Dtype \n",
      "---  ------      --------------  ----- \n",
      " 0   Unnamed: 0  5171 non-null   int64 \n",
      " 1   label       5171 non-null   object\n",
      " 2   text        5171 non-null   object\n",
      " 3   label_num   5171 non-null   int64 \n",
      "dtypes: int64(2), object(2)\n",
      "memory usage: 161.7+ KB\n"
     ]
    }
   ],
   "source": [
    "email_data.info()"
   ]
  },
  {
   "cell_type": "code",
   "execution_count": 12,
   "metadata": {
    "id": "sztdnCfvuyes",
    "pycharm": {
     "name": "#%%\n"
    }
   },
   "outputs": [],
   "source": [
    "email_data.drop(['Unnamed: 0','label'],axis=1,inplace=True)"
   ]
  },
  {
   "cell_type": "code",
   "execution_count": 13,
   "outputs": [
    {
     "data": {
      "text/plain": "                                                   text  label_num\n1130                                      Subject: \\r\\n          1\n4748                                      Subject: \\r\\n          1\n363                                       Subject: \\r\\n          1\n3610                                      Subject: \\r\\n          1\n182                                       Subject: \\r\\n          1\n...                                                 ...        ...\n3225                    Subject: you can be smart !\\r\\n          1\n2408                    Subject: you can be smart !\\r\\n          1\n3933                    Subject: you can be smart !\\r\\n          1\n5032  Subject: your contact info\\r\\n? \" ? ? ?  ?  ? ...          1\n725   Subject: your contact info\\r\\n? \" ? ? ?  ?  ? ...          1\n\n[321 rows x 2 columns]",
      "text/html": "<div>\n<style scoped>\n    .dataframe tbody tr th:only-of-type {\n        vertical-align: middle;\n    }\n\n    .dataframe tbody tr th {\n        vertical-align: top;\n    }\n\n    .dataframe thead th {\n        text-align: right;\n    }\n</style>\n<table border=\"1\" class=\"dataframe\">\n  <thead>\n    <tr style=\"text-align: right;\">\n      <th></th>\n      <th>text</th>\n      <th>label_num</th>\n    </tr>\n  </thead>\n  <tbody>\n    <tr>\n      <th>1130</th>\n      <td>Subject: \\r\\n</td>\n      <td>1</td>\n    </tr>\n    <tr>\n      <th>4748</th>\n      <td>Subject: \\r\\n</td>\n      <td>1</td>\n    </tr>\n    <tr>\n      <th>363</th>\n      <td>Subject: \\r\\n</td>\n      <td>1</td>\n    </tr>\n    <tr>\n      <th>3610</th>\n      <td>Subject: \\r\\n</td>\n      <td>1</td>\n    </tr>\n    <tr>\n      <th>182</th>\n      <td>Subject: \\r\\n</td>\n      <td>1</td>\n    </tr>\n    <tr>\n      <th>...</th>\n      <td>...</td>\n      <td>...</td>\n    </tr>\n    <tr>\n      <th>3225</th>\n      <td>Subject: you can be smart !\\r\\n</td>\n      <td>1</td>\n    </tr>\n    <tr>\n      <th>2408</th>\n      <td>Subject: you can be smart !\\r\\n</td>\n      <td>1</td>\n    </tr>\n    <tr>\n      <th>3933</th>\n      <td>Subject: you can be smart !\\r\\n</td>\n      <td>1</td>\n    </tr>\n    <tr>\n      <th>5032</th>\n      <td>Subject: your contact info\\r\\n? \" ? ? ?  ?  ? ...</td>\n      <td>1</td>\n    </tr>\n    <tr>\n      <th>725</th>\n      <td>Subject: your contact info\\r\\n? \" ? ? ?  ?  ? ...</td>\n      <td>1</td>\n    </tr>\n  </tbody>\n</table>\n<p>321 rows × 2 columns</p>\n</div>"
     },
     "execution_count": 13,
     "metadata": {},
     "output_type": "execute_result"
    }
   ],
   "source": [
    "dupli = email_data.duplicated(subset=['text'], keep=False)\n",
    "dupli_table = email_data[dupli].sort_values(by='text')\n",
    "dupli_table[['text', 'label_num']]"
   ],
   "metadata": {
    "collapsed": false,
    "pycharm": {
     "name": "#%%\n"
    }
   }
  },
  {
   "cell_type": "code",
   "execution_count": 15,
   "outputs": [
    {
     "data": {
      "text/plain": "Empty DataFrame\nColumns: [text, label_num]\nIndex: []",
      "text/html": "<div>\n<style scoped>\n    .dataframe tbody tr th:only-of-type {\n        vertical-align: middle;\n    }\n\n    .dataframe tbody tr th {\n        vertical-align: top;\n    }\n\n    .dataframe thead th {\n        text-align: right;\n    }\n</style>\n<table border=\"1\" class=\"dataframe\">\n  <thead>\n    <tr style=\"text-align: right;\">\n      <th></th>\n      <th>text</th>\n      <th>label_num</th>\n    </tr>\n  </thead>\n  <tbody>\n  </tbody>\n</table>\n</div>"
     },
     "execution_count": 15,
     "metadata": {},
     "output_type": "execute_result"
    }
   ],
   "source": [
    "email_data_nodup = email_data.drop_duplicates()\n",
    "\n",
    "dupli = email_data_nodup.duplicated(subset=['text'], keep=False)\n",
    "dupli_table = email_data_nodup[dupli].sort_values(by='text')\n",
    "dupli_table"
   ],
   "metadata": {
    "collapsed": false,
    "pycharm": {
     "name": "#%%\n"
    }
   }
  },
  {
   "cell_type": "code",
   "execution_count": 17,
   "metadata": {
    "colab": {
     "base_uri": "https://localhost:8080/",
     "height": 204
    },
    "id": "Hl5QXzgcvBUu",
    "outputId": "dbe60023-998c-4a4f-e8cc-a61c4009b3de",
    "pycharm": {
     "name": "#%%\n"
    }
   },
   "outputs": [
    {
     "data": {
      "text/plain": "                                                   text  label_num\n0     Subject: enron methanol ; meter # : 988291\\r\\n...          0\n1     Subject: hpl nom for january 9 , 2001\\r\\n( see...          0\n2     Subject: neon retreat\\r\\nho ho ho , we ' re ar...          0\n3     Subject: photoshop , windows , office . cheap ...          1\n4     Subject: re : indian springs\\r\\nthis deal is t...          0\n...                                                 ...        ...\n5165  Subject: fw : crosstex energy , driscoll ranch...          0\n5166  Subject: put the 10 on the ft\\r\\nthe transport...          0\n5167  Subject: 3 / 4 / 2000 and following noms\\r\\nhp...          0\n5169  Subject: industrial worksheets for august 2000...          0\n5170  Subject: important online banking alert\\r\\ndea...          1\n\n[4993 rows x 2 columns]",
      "text/html": "<div>\n<style scoped>\n    .dataframe tbody tr th:only-of-type {\n        vertical-align: middle;\n    }\n\n    .dataframe tbody tr th {\n        vertical-align: top;\n    }\n\n    .dataframe thead th {\n        text-align: right;\n    }\n</style>\n<table border=\"1\" class=\"dataframe\">\n  <thead>\n    <tr style=\"text-align: right;\">\n      <th></th>\n      <th>text</th>\n      <th>label_num</th>\n    </tr>\n  </thead>\n  <tbody>\n    <tr>\n      <th>0</th>\n      <td>Subject: enron methanol ; meter # : 988291\\r\\n...</td>\n      <td>0</td>\n    </tr>\n    <tr>\n      <th>1</th>\n      <td>Subject: hpl nom for january 9 , 2001\\r\\n( see...</td>\n      <td>0</td>\n    </tr>\n    <tr>\n      <th>2</th>\n      <td>Subject: neon retreat\\r\\nho ho ho , we ' re ar...</td>\n      <td>0</td>\n    </tr>\n    <tr>\n      <th>3</th>\n      <td>Subject: photoshop , windows , office . cheap ...</td>\n      <td>1</td>\n    </tr>\n    <tr>\n      <th>4</th>\n      <td>Subject: re : indian springs\\r\\nthis deal is t...</td>\n      <td>0</td>\n    </tr>\n    <tr>\n      <th>...</th>\n      <td>...</td>\n      <td>...</td>\n    </tr>\n    <tr>\n      <th>5165</th>\n      <td>Subject: fw : crosstex energy , driscoll ranch...</td>\n      <td>0</td>\n    </tr>\n    <tr>\n      <th>5166</th>\n      <td>Subject: put the 10 on the ft\\r\\nthe transport...</td>\n      <td>0</td>\n    </tr>\n    <tr>\n      <th>5167</th>\n      <td>Subject: 3 / 4 / 2000 and following noms\\r\\nhp...</td>\n      <td>0</td>\n    </tr>\n    <tr>\n      <th>5169</th>\n      <td>Subject: industrial worksheets for august 2000...</td>\n      <td>0</td>\n    </tr>\n    <tr>\n      <th>5170</th>\n      <td>Subject: important online banking alert\\r\\ndea...</td>\n      <td>1</td>\n    </tr>\n  </tbody>\n</table>\n<p>4993 rows × 2 columns</p>\n</div>"
     },
     "execution_count": 17,
     "metadata": {},
     "output_type": "execute_result"
    }
   ],
   "source": [
    "email_data_nodup"
   ]
  },
  {
   "cell_type": "code",
   "execution_count": 19,
   "metadata": {
    "colab": {
     "base_uri": "https://localhost:8080/",
     "height": 69
    },
    "id": "14cIxzW7PznC",
    "outputId": "3b493fde-c305-4b3c-b9c8-8df2283398a5",
    "pycharm": {
     "name": "#%%\n"
    }
   },
   "outputs": [
    {
     "data": {
      "text/plain": "\"Subject: enron methanol ; meter # : 988291\\r\\nthis is a follow up to the note i gave you on monday , 4 / 3 / 00 { preliminary\\r\\nflow data provided by daren } .\\r\\nplease override pop ' s daily volume { presently zero } to reflect daily\\r\\nactivity you can obtain from gas control .\\r\\nthis change is needed asap for economics purposes .\""
     },
     "execution_count": 19,
     "metadata": {},
     "output_type": "execute_result"
    }
   ],
   "source": [
    "email_data_nodup.text[0]"
   ]
  },
  {
   "cell_type": "code",
   "execution_count": 20,
   "metadata": {
    "pycharm": {
     "name": "#%%\n"
    }
   },
   "outputs": [],
   "source": [
    "from sklearn.model_selection import train_test_split\n",
    "train, test = train_test_split(email_data_nodup, test_size=0.2, stratify=email_data_nodup['label_num'])"
   ]
  },
  {
   "cell_type": "code",
   "execution_count": 21,
   "metadata": {
    "pycharm": {
     "name": "#%%\n"
    }
   },
   "outputs": [
    {
     "data": {
      "text/plain": "<Figure size 1440x576 with 2 Axes>",
      "image/png": "[encoded data removed]"
     },
     "metadata": {},
     "output_type": "display_data"
    }
   ],
   "source": [
    "from functions import train_test_labels_dist\n",
    "\n",
    "train_test_labels_dist(train_data=train, test_data=test, target='label_num')"
   ]
  },
  {
   "cell_type": "code",
   "execution_count": 22,
   "metadata": {
    "pycharm": {
     "name": "#%%\n"
    }
   },
   "outputs": [
    {
     "data": {
      "text/plain": "                                                   text  label_num\n0     Subject: increase your sperm volume by 500 %\\r...          1\n1     Subject: re : flow volumes at oxy gladewater ,...          0\n2     Subject: photoshop , windows , office . cheap ...          1\n3     Subject: re : june 00 production - o ' connor ...          0\n4     Subject: 1497\\r\\ndaren ,\\r\\nates shows that yo...          0\n...                                                 ...        ...\n3989  Subject: impress her with a hard erection . . ...          1\n3990  Subject: enjoy it\\r\\ngeneric viagra , at cheap...          1\n3991  Subject: do you feel safe as an american ?\\r\\n...          1\n3992  Subject: re : potential list fo 9 / 00\\r\\ncorr...          0\n3993  Subject: can you last 36 hours ? 3 x\\r\\nci - i...          1\n\n[3994 rows x 2 columns]",
      "text/html": "<div>\n<style scoped>\n    .dataframe tbody tr th:only-of-type {\n        vertical-align: middle;\n    }\n\n    .dataframe tbody tr th {\n        vertical-align: top;\n    }\n\n    .dataframe thead th {\n        text-align: right;\n    }\n</style>\n<table border=\"1\" class=\"dataframe\">\n  <thead>\n    <tr style=\"text-align: right;\">\n      <th></th>\n      <th>text</th>\n      <th>label_num</th>\n    </tr>\n  </thead>\n  <tbody>\n    <tr>\n      <th>0</th>\n      <td>Subject: increase your sperm volume by 500 %\\r...</td>\n      <td>1</td>\n    </tr>\n    <tr>\n      <th>1</th>\n      <td>Subject: re : flow volumes at oxy gladewater ,...</td>\n      <td>0</td>\n    </tr>\n    <tr>\n      <th>2</th>\n      <td>Subject: photoshop , windows , office . cheap ...</td>\n      <td>1</td>\n    </tr>\n    <tr>\n      <th>3</th>\n      <td>Subject: re : june 00 production - o ' connor ...</td>\n      <td>0</td>\n    </tr>\n    <tr>\n      <th>4</th>\n      <td>Subject: 1497\\r\\ndaren ,\\r\\nates shows that yo...</td>\n      <td>0</td>\n    </tr>\n    <tr>\n      <th>...</th>\n      <td>...</td>\n      <td>...</td>\n    </tr>\n    <tr>\n      <th>3989</th>\n      <td>Subject: impress her with a hard erection . . ...</td>\n      <td>1</td>\n    </tr>\n    <tr>\n      <th>3990</th>\n      <td>Subject: enjoy it\\r\\ngeneric viagra , at cheap...</td>\n      <td>1</td>\n    </tr>\n    <tr>\n      <th>3991</th>\n      <td>Subject: do you feel safe as an american ?\\r\\n...</td>\n      <td>1</td>\n    </tr>\n    <tr>\n      <th>3992</th>\n      <td>Subject: re : potential list fo 9 / 00\\r\\ncorr...</td>\n      <td>0</td>\n    </tr>\n    <tr>\n      <th>3993</th>\n      <td>Subject: can you last 36 hours ? 3 x\\r\\nci - i...</td>\n      <td>1</td>\n    </tr>\n  </tbody>\n</table>\n<p>3994 rows × 2 columns</p>\n</div>"
     },
     "execution_count": 22,
     "metadata": {},
     "output_type": "execute_result"
    }
   ],
   "source": [
    "train = train.reset_index(drop=True)\n",
    "train"
   ]
  },
  {
   "cell_type": "code",
   "execution_count": 9,
   "metadata": {
    "pycharm": {
     "name": "#%%\n"
    }
   },
   "outputs": [
    {
     "name": "stderr",
     "output_type": "stream",
     "text": [
      "[nltk_data] Downloading package averaged_perceptron_tagger to\n",
      "[nltk_data]     C:\\Users\\HP\\AppData\\Roaming\\nltk_data...\n",
      "[nltk_data]   Package averaged_perceptron_tagger is already up-to-\n",
      "[nltk_data]       date!\n"
     ]
    },
    {
     "data": {
      "text/plain": [
       "True"
      ]
     },
     "execution_count": 9,
     "metadata": {},
     "output_type": "execute_result"
    }
   ],
   "source": [
    "# nltk.download('averaged_perceptron_tagger')"
   ]
  },
  {
   "cell_type": "code",
   "execution_count": 18,
   "metadata": {
    "pycharm": {
     "name": "#%%\n"
    }
   },
   "outputs": [
    {
     "data": {
      "text/plain": [
       "['misleading outside reviews. worst coffee ever had, and sorely disappointing that vibe.',\n",
       " 'misleading glowing reviews. worst coffee ever had, poor and sorely disappointing vibe.',\n",
       " 'misleading bad reviews. arguably worst coffee ever had, and sorely disappointing vibe.',\n",
       " 'misleading reviews. worst coffee ever ever had, and sorely a disappointing vibe.',\n",
       " 'misleading reviews. worst coffee we ever had, and also sorely disappointing vibe.']"
      ]
     },
     "execution_count": 18,
     "metadata": {},
     "output_type": "execute_result"
    }
   ],
   "source": [
    "# from nlpaug.augmenter.word import ContextualWordEmbsAug\n",
    "# aug = ContextualWordEmbsAug(aug_max=2, action='insert')\n",
    "# aug.augment(\"Misleading reviews. Worst coffee ever had, and sorely disappointing vibe.\", n=5)"
   ]
  },
  {
   "cell_type": "code",
   "execution_count": 23,
   "metadata": {
    "id": "u789Drd5vLIv",
    "pycharm": {
     "name": "#%%\n"
    },
    "scrolled": true
   },
   "outputs": [],
   "source": [
    "import re\n",
    "def cleaning(s):\n",
    "    s=str(s)\n",
    "    s=s.replace('Subject:', ' ') \\\n",
    "        .replace('re :', ' ') \\\n",
    "        .replace('fw :', ' ')\n",
    "    s=s.lower()\n",
    "    s=re.sub(r'\\W',' ',s)\n",
    "    s = s.split()\n",
    "    s = \" \".join(s)\n",
    "    return s"
   ]
  },
  {
   "cell_type": "code",
   "execution_count": 24,
   "metadata": {
    "id": "YwA_st-pPznD",
    "pycharm": {
     "name": "#%%\n"
    }
   },
   "outputs": [],
   "source": [
    "train['clean_text']=train['text'].apply(cleaning)"
   ]
  },
  {
   "cell_type": "code",
   "execution_count": 25,
   "metadata": {
    "pycharm": {
     "name": "#%%\n"
    }
   },
   "outputs": [
    {
     "data": {
      "text/plain": "'1497 daren ates shows that your team has one specialist for 1497 in january and february please let me know if ates is incorrect for the month of january and february if there is a specialist in your team we have not received a survey from this person this lack of information prevents your expenses from being 100 allocated out to the commercial teams please fill out the following survey and return it to me asap if you have any questions please call me at 3 3859 thanks shari'"
     },
     "execution_count": 25,
     "metadata": {},
     "output_type": "execute_result"
    }
   ],
   "source": [
    "train['clean_text'][4]"
   ]
  },
  {
   "cell_type": "code",
   "execution_count": 40,
   "metadata": {
    "pycharm": {
     "name": "#%%\n"
    }
   },
   "outputs": [],
   "source": [
    "# from nlpaug.augmenter.word import ContextualWordEmbsAug\n",
    "# context_aug = ContextualWordEmbsAug(aug_max=2, action='insert')"
   ]
  },
  {
   "cell_type": "code",
   "execution_count": 41,
   "metadata": {
    "pycharm": {
     "name": "#%%\n"
    }
   },
   "outputs": [
    {
     "data": {
      "text/plain": "['19 and readyyet click only here to be digitally removed',\n '19 and the readyyet click here else to be removed']"
     },
     "execution_count": 41,
     "metadata": {},
     "output_type": "execute_result"
    }
   ],
   "source": [
    "# context_aug.augment(train['clean_text'][4], n=2)"
   ]
  },
  {
   "cell_type": "code",
   "execution_count": 42,
   "outputs": [
    {
     "data": {
      "text/plain": "['round back action click box here are to be removed',\n 'round back action click here changed to or be removed']"
     },
     "execution_count": 42,
     "metadata": {},
     "output_type": "execute_result"
    }
   ],
   "source": [
    "# context_aug.augment(train.clean_text[11], n=2)"
   ],
   "metadata": {
    "collapsed": false,
    "pycharm": {
     "name": "#%%\n"
    }
   }
  },
  {
   "cell_type": "code",
   "execution_count": 26,
   "outputs": [
    {
     "data": {
      "text/plain": "                                                   text  label_num  \\\n0     Subject: increase your sperm volume by 500 %\\r...          1   \n1     Subject: re : flow volumes at oxy gladewater ,...          0   \n2     Subject: photoshop , windows , office . cheap ...          1   \n3     Subject: re : june 00 production - o ' connor ...          0   \n4     Subject: 1497\\r\\ndaren ,\\r\\nates shows that yo...          0   \n...                                                 ...        ...   \n3989  Subject: impress her with a hard erection . . ...          1   \n3990  Subject: enjoy it\\r\\ngeneric viagra , at cheap...          1   \n3991  Subject: do you feel safe as an american ?\\r\\n...          1   \n3992  Subject: re : potential list fo 9 / 00\\r\\ncorr...          0   \n3993  Subject: can you last 36 hours ? 3 x\\r\\nci - i...          1   \n\n                                             clean_text  length  \n0     increase your sperm volume by 500 spur m is th...     490  \n1     flow volumes at oxy gladewater meter 98926 mar...     556  \n2     photoshop windows office cheap main trending a...     386  \n3     june 00 production o connor hewitt ltd forward...     859  \n4     1497 daren ates shows that your team has one s...     478  \n...                                                 ...     ...  \n3989  impress her with a hard erection midband good ...     817  \n3990  enjoy it generic viagra at cheap prices most p...     363  \n3991  do you feel safe as an american the election r...    1322  \n3992  potential list fo 9 00 correction that s meter...     976  \n3993  can you last 36 hours 3 x ci ialis softabs is ...     409  \n\n[3994 rows x 4 columns]",
      "text/html": "<div>\n<style scoped>\n    .dataframe tbody tr th:only-of-type {\n        vertical-align: middle;\n    }\n\n    .dataframe tbody tr th {\n        vertical-align: top;\n    }\n\n    .dataframe thead th {\n        text-align: right;\n    }\n</style>\n<table border=\"1\" class=\"dataframe\">\n  <thead>\n    <tr style=\"text-align: right;\">\n      <th></th>\n      <th>text</th>\n      <th>label_num</th>\n      <th>clean_text</th>\n      <th>length</th>\n    </tr>\n  </thead>\n  <tbody>\n    <tr>\n      <th>0</th>\n      <td>Subject: increase your sperm volume by 500 %\\r...</td>\n      <td>1</td>\n      <td>increase your sperm volume by 500 spur m is th...</td>\n      <td>490</td>\n    </tr>\n    <tr>\n      <th>1</th>\n      <td>Subject: re : flow volumes at oxy gladewater ,...</td>\n      <td>0</td>\n      <td>flow volumes at oxy gladewater meter 98926 mar...</td>\n      <td>556</td>\n    </tr>\n    <tr>\n      <th>2</th>\n      <td>Subject: photoshop , windows , office . cheap ...</td>\n      <td>1</td>\n      <td>photoshop windows office cheap main trending a...</td>\n      <td>386</td>\n    </tr>\n    <tr>\n      <th>3</th>\n      <td>Subject: re : june 00 production - o ' connor ...</td>\n      <td>0</td>\n      <td>june 00 production o connor hewitt ltd forward...</td>\n      <td>859</td>\n    </tr>\n    <tr>\n      <th>4</th>\n      <td>Subject: 1497\\r\\ndaren ,\\r\\nates shows that yo...</td>\n      <td>0</td>\n      <td>1497 daren ates shows that your team has one s...</td>\n      <td>478</td>\n    </tr>\n    <tr>\n      <th>...</th>\n      <td>...</td>\n      <td>...</td>\n      <td>...</td>\n      <td>...</td>\n    </tr>\n    <tr>\n      <th>3989</th>\n      <td>Subject: impress her with a hard erection . . ...</td>\n      <td>1</td>\n      <td>impress her with a hard erection midband good ...</td>\n      <td>817</td>\n    </tr>\n    <tr>\n      <th>3990</th>\n      <td>Subject: enjoy it\\r\\ngeneric viagra , at cheap...</td>\n      <td>1</td>\n      <td>enjoy it generic viagra at cheap prices most p...</td>\n      <td>363</td>\n    </tr>\n    <tr>\n      <th>3991</th>\n      <td>Subject: do you feel safe as an american ?\\r\\n...</td>\n      <td>1</td>\n      <td>do you feel safe as an american the election r...</td>\n      <td>1322</td>\n    </tr>\n    <tr>\n      <th>3992</th>\n      <td>Subject: re : potential list fo 9 / 00\\r\\ncorr...</td>\n      <td>0</td>\n      <td>potential list fo 9 00 correction that s meter...</td>\n      <td>976</td>\n    </tr>\n    <tr>\n      <th>3993</th>\n      <td>Subject: can you last 36 hours ? 3 x\\r\\nci - i...</td>\n      <td>1</td>\n      <td>can you last 36 hours 3 x ci ialis softabs is ...</td>\n      <td>409</td>\n    </tr>\n  </tbody>\n</table>\n<p>3994 rows × 4 columns</p>\n</div>"
     },
     "execution_count": 26,
     "metadata": {},
     "output_type": "execute_result"
    }
   ],
   "source": [
    "train['length'] = train['clean_text'].apply(len)\n",
    "train"
   ],
   "metadata": {
    "collapsed": false,
    "pycharm": {
     "name": "#%%\n"
    }
   }
  },
  {
   "cell_type": "code",
   "execution_count": 28,
   "outputs": [
    {
     "data": {
      "text/plain": "                                                   text  label_num  \\\n0     Subject: increase your sperm volume by 500 %\\r...          1   \n1     Subject: re : flow volumes at oxy gladewater ,...          0   \n2     Subject: photoshop , windows , office . cheap ...          1   \n3     Subject: re : june 00 production - o ' connor ...          0   \n4     Subject: 1497\\r\\ndaren ,\\r\\nates shows that yo...          0   \n...                                                 ...        ...   \n3989  Subject: impress her with a hard erection . . ...          1   \n3990  Subject: enjoy it\\r\\ngeneric viagra , at cheap...          1   \n3991  Subject: do you feel safe as an american ?\\r\\n...          1   \n3992  Subject: re : potential list fo 9 / 00\\r\\ncorr...          0   \n3993  Subject: can you last 36 hours ? 3 x\\r\\nci - i...          1   \n\n                                             clean_text  length  \n0     increase your sperm volume by 500 spur m is th...     490  \n1     flow volumes at oxy gladewater meter 98926 mar...     556  \n2     photoshop windows office cheap main trending a...     386  \n3     june 00 production o connor hewitt ltd forward...     859  \n4     1497 daren ates shows that your team has one s...     478  \n...                                                 ...     ...  \n3989  impress her with a hard erection midband good ...     817  \n3990  enjoy it generic viagra at cheap prices most p...     363  \n3991  do you feel safe as an american the election r...    1322  \n3992  potential list fo 9 00 correction that s meter...     976  \n3993  can you last 36 hours 3 x ci ialis softabs is ...     409  \n\n[3990 rows x 4 columns]",
      "text/html": "<div>\n<style scoped>\n    .dataframe tbody tr th:only-of-type {\n        vertical-align: middle;\n    }\n\n    .dataframe tbody tr th {\n        vertical-align: top;\n    }\n\n    .dataframe thead th {\n        text-align: right;\n    }\n</style>\n<table border=\"1\" class=\"dataframe\">\n  <thead>\n    <tr style=\"text-align: right;\">\n      <th></th>\n      <th>text</th>\n      <th>label_num</th>\n      <th>clean_text</th>\n      <th>length</th>\n    </tr>\n  </thead>\n  <tbody>\n    <tr>\n      <th>0</th>\n      <td>Subject: increase your sperm volume by 500 %\\r...</td>\n      <td>1</td>\n      <td>increase your sperm volume by 500 spur m is th...</td>\n      <td>490</td>\n    </tr>\n    <tr>\n      <th>1</th>\n      <td>Subject: re : flow volumes at oxy gladewater ,...</td>\n      <td>0</td>\n      <td>flow volumes at oxy gladewater meter 98926 mar...</td>\n      <td>556</td>\n    </tr>\n    <tr>\n      <th>2</th>\n      <td>Subject: photoshop , windows , office . cheap ...</td>\n      <td>1</td>\n      <td>photoshop windows office cheap main trending a...</td>\n      <td>386</td>\n    </tr>\n    <tr>\n      <th>3</th>\n      <td>Subject: re : june 00 production - o ' connor ...</td>\n      <td>0</td>\n      <td>june 00 production o connor hewitt ltd forward...</td>\n      <td>859</td>\n    </tr>\n    <tr>\n      <th>4</th>\n      <td>Subject: 1497\\r\\ndaren ,\\r\\nates shows that yo...</td>\n      <td>0</td>\n      <td>1497 daren ates shows that your team has one s...</td>\n      <td>478</td>\n    </tr>\n    <tr>\n      <th>...</th>\n      <td>...</td>\n      <td>...</td>\n      <td>...</td>\n      <td>...</td>\n    </tr>\n    <tr>\n      <th>3989</th>\n      <td>Subject: impress her with a hard erection . . ...</td>\n      <td>1</td>\n      <td>impress her with a hard erection midband good ...</td>\n      <td>817</td>\n    </tr>\n    <tr>\n      <th>3990</th>\n      <td>Subject: enjoy it\\r\\ngeneric viagra , at cheap...</td>\n      <td>1</td>\n      <td>enjoy it generic viagra at cheap prices most p...</td>\n      <td>363</td>\n    </tr>\n    <tr>\n      <th>3991</th>\n      <td>Subject: do you feel safe as an american ?\\r\\n...</td>\n      <td>1</td>\n      <td>do you feel safe as an american the election r...</td>\n      <td>1322</td>\n    </tr>\n    <tr>\n      <th>3992</th>\n      <td>Subject: re : potential list fo 9 / 00\\r\\ncorr...</td>\n      <td>0</td>\n      <td>potential list fo 9 00 correction that s meter...</td>\n      <td>976</td>\n    </tr>\n    <tr>\n      <th>3993</th>\n      <td>Subject: can you last 36 hours ? 3 x\\r\\nci - i...</td>\n      <td>1</td>\n      <td>can you last 36 hours 3 x ci ialis softabs is ...</td>\n      <td>409</td>\n    </tr>\n  </tbody>\n</table>\n<p>3990 rows × 4 columns</p>\n</div>"
     },
     "execution_count": 28,
     "metadata": {},
     "output_type": "execute_result"
    }
   ],
   "source": [
    "train = train[train['length'] >= 10]\n",
    "train\n",
    "\n",
    "# train[train['length'] < 10]"
   ],
   "metadata": {
    "collapsed": false,
    "pycharm": {
     "name": "#%%\n"
    }
   }
  },
  {
   "cell_type": "code",
   "execution_count": 30,
   "outputs": [
    {
     "name": "stderr",
     "output_type": "stream",
     "text": [
      "100%|██████████| 1166/1166 [17:52<00:00,  1.09it/s]\n"
     ]
    }
   ],
   "source": [
    "from nlpaug.augmenter.word import ContextualWordEmbsAug\n",
    "from tqdm import tqdm\n",
    "context_aug = ContextualWordEmbsAug(aug_max=2, action='insert')\n",
    "\n",
    "spam_text = train[train['label_num']==1]['clean_text']\n",
    "augmented_text = []\n",
    "\n",
    "for text in tqdm(spam_text):\n",
    "    aug_text = context_aug.augment(text, n=1)\n",
    "    augmented_text.append(aug_text)"
   ],
   "metadata": {
    "collapsed": false,
    "pycharm": {
     "name": "#%%\n"
    }
   }
  },
  {
   "cell_type": "code",
   "execution_count": 32,
   "outputs": [
    {
     "data": {
      "text/plain": "                                             clean_text  label_num\n0     increase your sperm volume by 500 spur m is th...          1\n1     photoshop windows office cheap main menu trend...          1\n2     hii now online with profiles close to 1 millio...          1\n3     ok new offshore pharmacy not a single medical ...          1\n4     his lips his nose good day i tried to call you...          1\n...                                                 ...        ...\n1161  find it at here hey glide it on feel it to get...          1\n1162  impress her with a hard erection midband good ...          1\n1163  enjoy it generic viagra at cheap prices most p...          1\n1164  do you feel safe as an american the election r...          1\n1165  can you last 36 hours 3 x of ci ialis softabs ...          1\n\n[1166 rows x 2 columns]",
      "text/html": "<div>\n<style scoped>\n    .dataframe tbody tr th:only-of-type {\n        vertical-align: middle;\n    }\n\n    .dataframe tbody tr th {\n        vertical-align: top;\n    }\n\n    .dataframe thead th {\n        text-align: right;\n    }\n</style>\n<table border=\"1\" class=\"dataframe\">\n  <thead>\n    <tr style=\"text-align: right;\">\n      <th></th>\n      <th>clean_text</th>\n      <th>label_num</th>\n    </tr>\n  </thead>\n  <tbody>\n    <tr>\n      <th>0</th>\n      <td>increase your sperm volume by 500 spur m is th...</td>\n      <td>1</td>\n    </tr>\n    <tr>\n      <th>1</th>\n      <td>photoshop windows office cheap main menu trend...</td>\n      <td>1</td>\n    </tr>\n    <tr>\n      <th>2</th>\n      <td>hii now online with profiles close to 1 millio...</td>\n      <td>1</td>\n    </tr>\n    <tr>\n      <th>3</th>\n      <td>ok new offshore pharmacy not a single medical ...</td>\n      <td>1</td>\n    </tr>\n    <tr>\n      <th>4</th>\n      <td>his lips his nose good day i tried to call you...</td>\n      <td>1</td>\n    </tr>\n    <tr>\n      <th>...</th>\n      <td>...</td>\n      <td>...</td>\n    </tr>\n    <tr>\n      <th>1161</th>\n      <td>find it at here hey glide it on feel it to get...</td>\n      <td>1</td>\n    </tr>\n    <tr>\n      <th>1162</th>\n      <td>impress her with a hard erection midband good ...</td>\n      <td>1</td>\n    </tr>\n    <tr>\n      <th>1163</th>\n      <td>enjoy it generic viagra at cheap prices most p...</td>\n      <td>1</td>\n    </tr>\n    <tr>\n      <th>1164</th>\n      <td>do you feel safe as an american the election r...</td>\n      <td>1</td>\n    </tr>\n    <tr>\n      <th>1165</th>\n      <td>can you last 36 hours 3 x of ci ialis softabs ...</td>\n      <td>1</td>\n    </tr>\n  </tbody>\n</table>\n<p>1166 rows × 2 columns</p>\n</div>"
     },
     "execution_count": 32,
     "metadata": {},
     "output_type": "execute_result"
    }
   ],
   "source": [
    "spam_labels = [1] * len(augmented_text)\n",
    "\n",
    "augmented_data = pd.DataFrame({'clean_text': augmented_text, 'label_num': spam_labels})\n",
    "augmented_data"
   ],
   "metadata": {
    "collapsed": false,
    "pycharm": {
     "name": "#%%\n"
    }
   }
  },
  {
   "cell_type": "code",
   "execution_count": 33,
   "outputs": [
    {
     "data": {
      "text/plain": "                                             clean_text  label_num\n0     increase your sperm volume by 500 spur m is th...          1\n1     flow volumes at oxy gladewater meter 98926 mar...          0\n2     photoshop windows office cheap main trending a...          1\n3     june 00 production o connor hewitt ltd forward...          0\n4     1497 daren ates shows that your team has one s...          0\n...                                                 ...        ...\n3989  impress her with a hard erection midband good ...          1\n3990  enjoy it generic viagra at cheap prices most p...          1\n3991  do you feel safe as an american the election r...          1\n3992  potential list fo 9 00 correction that s meter...          0\n3993  can you last 36 hours 3 x ci ialis softabs is ...          1\n\n[3990 rows x 2 columns]",
      "text/html": "<div>\n<style scoped>\n    .dataframe tbody tr th:only-of-type {\n        vertical-align: middle;\n    }\n\n    .dataframe tbody tr th {\n        vertical-align: top;\n    }\n\n    .dataframe thead th {\n        text-align: right;\n    }\n</style>\n<table border=\"1\" class=\"dataframe\">\n  <thead>\n    <tr style=\"text-align: right;\">\n      <th></th>\n      <th>clean_text</th>\n      <th>label_num</th>\n    </tr>\n  </thead>\n  <tbody>\n    <tr>\n      <th>0</th>\n      <td>increase your sperm volume by 500 spur m is th...</td>\n      <td>1</td>\n    </tr>\n    <tr>\n      <th>1</th>\n      <td>flow volumes at oxy gladewater meter 98926 mar...</td>\n      <td>0</td>\n    </tr>\n    <tr>\n      <th>2</th>\n      <td>photoshop windows office cheap main trending a...</td>\n      <td>1</td>\n    </tr>\n    <tr>\n      <th>3</th>\n      <td>june 00 production o connor hewitt ltd forward...</td>\n      <td>0</td>\n    </tr>\n    <tr>\n      <th>4</th>\n      <td>1497 daren ates shows that your team has one s...</td>\n      <td>0</td>\n    </tr>\n    <tr>\n      <th>...</th>\n      <td>...</td>\n      <td>...</td>\n    </tr>\n    <tr>\n      <th>3989</th>\n      <td>impress her with a hard erection midband good ...</td>\n      <td>1</td>\n    </tr>\n    <tr>\n      <th>3990</th>\n      <td>enjoy it generic viagra at cheap prices most p...</td>\n      <td>1</td>\n    </tr>\n    <tr>\n      <th>3991</th>\n      <td>do you feel safe as an american the election r...</td>\n      <td>1</td>\n    </tr>\n    <tr>\n      <th>3992</th>\n      <td>potential list fo 9 00 correction that s meter...</td>\n      <td>0</td>\n    </tr>\n    <tr>\n      <th>3993</th>\n      <td>can you last 36 hours 3 x ci ialis softabs is ...</td>\n      <td>1</td>\n    </tr>\n  </tbody>\n</table>\n<p>3990 rows × 2 columns</p>\n</div>"
     },
     "execution_count": 33,
     "metadata": {},
     "output_type": "execute_result"
    }
   ],
   "source": [
    "train = train[['clean_text', 'label_num']]\n",
    "train"
   ],
   "metadata": {
    "collapsed": false,
    "pycharm": {
     "name": "#%%\n"
    }
   }
  },
  {
   "cell_type": "code",
   "execution_count": 34,
   "outputs": [
    {
     "data": {
      "text/plain": "                                             clean_text  label_num\n0     increase your sperm volume by 500 spur m is th...          1\n1     flow volumes at oxy gladewater meter 98926 mar...          0\n2     photoshop windows office cheap main trending a...          1\n3     june 00 production o connor hewitt ltd forward...          0\n4     1497 daren ates shows that your team has one s...          0\n...                                                 ...        ...\n1161  find it at here hey glide it on feel it to get...          1\n1162  impress her with a hard erection midband good ...          1\n1163  enjoy it generic viagra at cheap prices most p...          1\n1164  do you feel safe as an american the election r...          1\n1165  can you last 36 hours 3 x of ci ialis softabs ...          1\n\n[5156 rows x 2 columns]",
      "text/html": "<div>\n<style scoped>\n    .dataframe tbody tr th:only-of-type {\n        vertical-align: middle;\n    }\n\n    .dataframe tbody tr th {\n        vertical-align: top;\n    }\n\n    .dataframe thead th {\n        text-align: right;\n    }\n</style>\n<table border=\"1\" class=\"dataframe\">\n  <thead>\n    <tr style=\"text-align: right;\">\n      <th></th>\n      <th>clean_text</th>\n      <th>label_num</th>\n    </tr>\n  </thead>\n  <tbody>\n    <tr>\n      <th>0</th>\n      <td>increase your sperm volume by 500 spur m is th...</td>\n      <td>1</td>\n    </tr>\n    <tr>\n      <th>1</th>\n      <td>flow volumes at oxy gladewater meter 98926 mar...</td>\n      <td>0</td>\n    </tr>\n    <tr>\n      <th>2</th>\n      <td>photoshop windows office cheap main trending a...</td>\n      <td>1</td>\n    </tr>\n    <tr>\n      <th>3</th>\n      <td>june 00 production o connor hewitt ltd forward...</td>\n      <td>0</td>\n    </tr>\n    <tr>\n      <th>4</th>\n      <td>1497 daren ates shows that your team has one s...</td>\n      <td>0</td>\n    </tr>\n    <tr>\n      <th>...</th>\n      <td>...</td>\n      <td>...</td>\n    </tr>\n    <tr>\n      <th>1161</th>\n      <td>find it at here hey glide it on feel it to get...</td>\n      <td>1</td>\n    </tr>\n    <tr>\n      <th>1162</th>\n      <td>impress her with a hard erection midband good ...</td>\n      <td>1</td>\n    </tr>\n    <tr>\n      <th>1163</th>\n      <td>enjoy it generic viagra at cheap prices most p...</td>\n      <td>1</td>\n    </tr>\n    <tr>\n      <th>1164</th>\n      <td>do you feel safe as an american the election r...</td>\n      <td>1</td>\n    </tr>\n    <tr>\n      <th>1165</th>\n      <td>can you last 36 hours 3 x of ci ialis softabs ...</td>\n      <td>1</td>\n    </tr>\n  </tbody>\n</table>\n<p>5156 rows × 2 columns</p>\n</div>"
     },
     "execution_count": 34,
     "metadata": {},
     "output_type": "execute_result"
    }
   ],
   "source": [
    "main_data = pd.concat([train, augmented_data], axis=0)\n",
    "main_data"
   ],
   "metadata": {
    "collapsed": false,
    "pycharm": {
     "name": "#%%\n"
    }
   }
  },
  {
   "cell_type": "code",
   "execution_count": 35,
   "outputs": [
    {
     "data": {
      "text/plain": "                                             clean_text  label_num\n0     increase your sperm volume by 500 spur m is th...          1\n1     flow volumes at oxy gladewater meter 98926 mar...          0\n2     photoshop windows office cheap main trending a...          1\n3     june 00 production o connor hewitt ltd forward...          0\n4     1497 daren ates shows that your team has one s...          0\n...                                                 ...        ...\n5151  find it at here hey glide it on feel it to get...          1\n5152  impress her with a hard erection midband good ...          1\n5153  enjoy it generic viagra at cheap prices most p...          1\n5154  do you feel safe as an american the election r...          1\n5155  can you last 36 hours 3 x of ci ialis softabs ...          1\n\n[5156 rows x 2 columns]",
      "text/html": "<div>\n<style scoped>\n    .dataframe tbody tr th:only-of-type {\n        vertical-align: middle;\n    }\n\n    .dataframe tbody tr th {\n        vertical-align: top;\n    }\n\n    .dataframe thead th {\n        text-align: right;\n    }\n</style>\n<table border=\"1\" class=\"dataframe\">\n  <thead>\n    <tr style=\"text-align: right;\">\n      <th></th>\n      <th>clean_text</th>\n      <th>label_num</th>\n    </tr>\n  </thead>\n  <tbody>\n    <tr>\n      <th>0</th>\n      <td>increase your sperm volume by 500 spur m is th...</td>\n      <td>1</td>\n    </tr>\n    <tr>\n      <th>1</th>\n      <td>flow volumes at oxy gladewater meter 98926 mar...</td>\n      <td>0</td>\n    </tr>\n    <tr>\n      <th>2</th>\n      <td>photoshop windows office cheap main trending a...</td>\n      <td>1</td>\n    </tr>\n    <tr>\n      <th>3</th>\n      <td>june 00 production o connor hewitt ltd forward...</td>\n      <td>0</td>\n    </tr>\n    <tr>\n      <th>4</th>\n      <td>1497 daren ates shows that your team has one s...</td>\n      <td>0</td>\n    </tr>\n    <tr>\n      <th>...</th>\n      <td>...</td>\n      <td>...</td>\n    </tr>\n    <tr>\n      <th>5151</th>\n      <td>find it at here hey glide it on feel it to get...</td>\n      <td>1</td>\n    </tr>\n    <tr>\n      <th>5152</th>\n      <td>impress her with a hard erection midband good ...</td>\n      <td>1</td>\n    </tr>\n    <tr>\n      <th>5153</th>\n      <td>enjoy it generic viagra at cheap prices most p...</td>\n      <td>1</td>\n    </tr>\n    <tr>\n      <th>5154</th>\n      <td>do you feel safe as an american the election r...</td>\n      <td>1</td>\n    </tr>\n    <tr>\n      <th>5155</th>\n      <td>can you last 36 hours 3 x of ci ialis softabs ...</td>\n      <td>1</td>\n    </tr>\n  </tbody>\n</table>\n<p>5156 rows × 2 columns</p>\n</div>"
     },
     "execution_count": 35,
     "metadata": {},
     "output_type": "execute_result"
    }
   ],
   "source": [
    "main_data = main_data.reset_index(drop=True)\n",
    "main_data"
   ],
   "metadata": {
    "collapsed": false,
    "pycharm": {
     "name": "#%%\n"
    }
   }
  },
  {
   "cell_type": "code",
   "execution_count": 36,
   "outputs": [
    {
     "data": {
      "text/plain": "<Figure size 720x576 with 1 Axes>",
      "image/png": "[encoded data removed]"
     },
     "metadata": {},
     "output_type": "display_data"
    }
   ],
   "source": [
    "import matplotlib.pyplot as plt\n",
    "import seaborn as sns\n",
    "from matplotlib.pyplot import rcParams as rc\n",
    "rc['figure.figsize'] = 10, 8\n",
    "rc['font.size'] = 14\n",
    "\n",
    "palette1 = sns.color_palette('Greens_d')\n",
    "\n",
    "ax = sns.countplot(x='label_num', data=main_data, palette=palette1)\n",
    "plt.xticks([0, 1], [\"Ham\", \"Spam\"])\n",
    "plt.xlabel('Label')\n",
    "\n",
    "grouped_main = main_data.groupby('label_num').count()\n",
    "\n",
    "for index, row in grouped_main.iterrows():\n",
    "    ax.text(row.name, row.clean_text/2, row.clean_text, color='white', ha='center')\n",
    "plt.show()"
   ],
   "metadata": {
    "collapsed": false,
    "pycharm": {
     "name": "#%%\n"
    }
   }
  },
  {
   "cell_type": "code",
   "execution_count": 37,
   "outputs": [],
   "source": [
    "main_data.to_csv('main_data.csv', index=None)\n",
    "test.to_csv(\"test_data.csv\", index=None)"
   ],
   "metadata": {
    "collapsed": false,
    "pycharm": {
     "name": "#%%\n"
    }
   }
  },
  {
   "cell_type": "code",
   "execution_count": 2,
   "outputs": [
    {
     "data": {
      "text/plain": "                                             clean_text  label_num\n0     increase your sperm volume by 500 spur m is th...          1\n1     flow volumes at oxy gladewater meter 98926 mar...          0\n2     photoshop windows office cheap main trending a...          1\n3     june 00 production o connor hewitt ltd forward...          0\n4     1497 daren ates shows that your team has one s...          0\n...                                                 ...        ...\n5151  find it at here hey glide it on feel it to get...          1\n5152  impress her with a hard erection midband good ...          1\n5153  enjoy it generic viagra at cheap prices most p...          1\n5154  do you feel safe as an american the election r...          1\n5155  can you last 36 hours 3 x of ci ialis softabs ...          1\n\n[5156 rows x 2 columns]",
      "text/html": "<div>\n<style scoped>\n    .dataframe tbody tr th:only-of-type {\n        vertical-align: middle;\n    }\n\n    .dataframe tbody tr th {\n        vertical-align: top;\n    }\n\n    .dataframe thead th {\n        text-align: right;\n    }\n</style>\n<table border=\"1\" class=\"dataframe\">\n  <thead>\n    <tr style=\"text-align: right;\">\n      <th></th>\n      <th>clean_text</th>\n      <th>label_num</th>\n    </tr>\n  </thead>\n  <tbody>\n    <tr>\n      <th>0</th>\n      <td>increase your sperm volume by 500 spur m is th...</td>\n      <td>1</td>\n    </tr>\n    <tr>\n      <th>1</th>\n      <td>flow volumes at oxy gladewater meter 98926 mar...</td>\n      <td>0</td>\n    </tr>\n    <tr>\n      <th>2</th>\n      <td>photoshop windows office cheap main trending a...</td>\n      <td>1</td>\n    </tr>\n    <tr>\n      <th>3</th>\n      <td>june 00 production o connor hewitt ltd forward...</td>\n      <td>0</td>\n    </tr>\n    <tr>\n      <th>4</th>\n      <td>1497 daren ates shows that your team has one s...</td>\n      <td>0</td>\n    </tr>\n    <tr>\n      <th>...</th>\n      <td>...</td>\n      <td>...</td>\n    </tr>\n    <tr>\n      <th>5151</th>\n      <td>find it at here hey glide it on feel it to get...</td>\n      <td>1</td>\n    </tr>\n    <tr>\n      <th>5152</th>\n      <td>impress her with a hard erection midband good ...</td>\n      <td>1</td>\n    </tr>\n    <tr>\n      <th>5153</th>\n      <td>enjoy it generic viagra at cheap prices most p...</td>\n      <td>1</td>\n    </tr>\n    <tr>\n      <th>5154</th>\n      <td>do you feel safe as an american the election r...</td>\n      <td>1</td>\n    </tr>\n    <tr>\n      <th>5155</th>\n      <td>can you last 36 hours 3 x of ci ialis softabs ...</td>\n      <td>1</td>\n    </tr>\n  </tbody>\n</table>\n<p>5156 rows × 2 columns</p>\n</div>"
     },
     "execution_count": 2,
     "metadata": {},
     "output_type": "execute_result"
    }
   ],
   "source": [
    "main_data = pd.read_csv(\"main_data.csv\")\n",
    "main_data"
   ],
   "metadata": {
    "collapsed": false,
    "pycharm": {
     "name": "#%%\n"
    }
   }
  },
  {
   "cell_type": "code",
   "execution_count": 3,
   "outputs": [
    {
     "data": {
      "text/plain": "                                             clean_text  label_num\n1419  04 01 assignment termination expiration report...          0\n940   04 01 assignment termination expiration report...          0\n3284  april 2001 spot purchases vance deals for the ...          0\n1076  april 2001 spot purchases vance deals for the ...          0\n317   april nominations at shell deer park forwarded...          0\n...                                                 ...        ...\n1254  urgent ed has requested that we compile a list...          0\n90    wellhead adjustments the attached spreadsheet ...          0\n2602  wellhead adjustments the attached spreadsheet ...          0\n1759  wellhead volumes daren please click on the sup...          0\n2859  wellhead volumes daren please click on the sup...          0\n\n[146 rows x 2 columns]",
      "text/html": "<div>\n<style scoped>\n    .dataframe tbody tr th:only-of-type {\n        vertical-align: middle;\n    }\n\n    .dataframe tbody tr th {\n        vertical-align: top;\n    }\n\n    .dataframe thead th {\n        text-align: right;\n    }\n</style>\n<table border=\"1\" class=\"dataframe\">\n  <thead>\n    <tr style=\"text-align: right;\">\n      <th></th>\n      <th>clean_text</th>\n      <th>label_num</th>\n    </tr>\n  </thead>\n  <tbody>\n    <tr>\n      <th>1419</th>\n      <td>04 01 assignment termination expiration report...</td>\n      <td>0</td>\n    </tr>\n    <tr>\n      <th>940</th>\n      <td>04 01 assignment termination expiration report...</td>\n      <td>0</td>\n    </tr>\n    <tr>\n      <th>3284</th>\n      <td>april 2001 spot purchases vance deals for the ...</td>\n      <td>0</td>\n    </tr>\n    <tr>\n      <th>1076</th>\n      <td>april 2001 spot purchases vance deals for the ...</td>\n      <td>0</td>\n    </tr>\n    <tr>\n      <th>317</th>\n      <td>april nominations at shell deer park forwarded...</td>\n      <td>0</td>\n    </tr>\n    <tr>\n      <th>...</th>\n      <td>...</td>\n      <td>...</td>\n    </tr>\n    <tr>\n      <th>1254</th>\n      <td>urgent ed has requested that we compile a list...</td>\n      <td>0</td>\n    </tr>\n    <tr>\n      <th>90</th>\n      <td>wellhead adjustments the attached spreadsheet ...</td>\n      <td>0</td>\n    </tr>\n    <tr>\n      <th>2602</th>\n      <td>wellhead adjustments the attached spreadsheet ...</td>\n      <td>0</td>\n    </tr>\n    <tr>\n      <th>1759</th>\n      <td>wellhead volumes daren please click on the sup...</td>\n      <td>0</td>\n    </tr>\n    <tr>\n      <th>2859</th>\n      <td>wellhead volumes daren please click on the sup...</td>\n      <td>0</td>\n    </tr>\n  </tbody>\n</table>\n<p>146 rows × 2 columns</p>\n</div>"
     },
     "execution_count": 3,
     "metadata": {},
     "output_type": "execute_result"
    }
   ],
   "source": [
    "duplicates = main_data.duplicated(subset=['clean_text'], keep=False)\n",
    "duplicated_main = main_data[duplicates].sort_values(by='clean_text')\n",
    "duplicated_main[['clean_text', 'label_num']]"
   ],
   "metadata": {
    "collapsed": false,
    "pycharm": {
     "name": "#%%\n"
    }
   }
  },
  {
   "cell_type": "code",
   "execution_count": 4,
   "outputs": [
    {
     "data": {
      "text/plain": "Empty DataFrame\nColumns: [clean_text, label_num]\nIndex: []",
      "text/html": "<div>\n<style scoped>\n    .dataframe tbody tr th:only-of-type {\n        vertical-align: middle;\n    }\n\n    .dataframe tbody tr th {\n        vertical-align: top;\n    }\n\n    .dataframe thead th {\n        text-align: right;\n    }\n</style>\n<table border=\"1\" class=\"dataframe\">\n  <thead>\n    <tr style=\"text-align: right;\">\n      <th></th>\n      <th>clean_text</th>\n      <th>label_num</th>\n    </tr>\n  </thead>\n  <tbody>\n  </tbody>\n</table>\n</div>"
     },
     "execution_count": 4,
     "metadata": {},
     "output_type": "execute_result"
    }
   ],
   "source": [
    "main_data_nodup = main_data.drop_duplicates()\n",
    "\n",
    "duplicates = main_data_nodup.duplicated(subset=['clean_text'], keep=False)\n",
    "duplicated_main = main_data_nodup[duplicates].sort_values(by='clean_text')\n",
    "duplicated_main[['clean_text', 'label_num']]"
   ],
   "metadata": {
    "collapsed": false,
    "pycharm": {
     "name": "#%%\n"
    }
   }
  },
  {
   "cell_type": "code",
   "execution_count": 18,
   "outputs": [
    {
     "data": {
      "text/plain": "clean_text    0\nlabel_num     0\ndtype: int64"
     },
     "execution_count": 18,
     "metadata": {},
     "output_type": "execute_result"
    }
   ],
   "source": [
    "main_data_nodup.isnull().sum()"
   ],
   "metadata": {
    "collapsed": false,
    "pycharm": {
     "name": "#%%\n"
    }
   }
  },
  {
   "cell_type": "code",
   "execution_count": 6,
   "outputs": [
    {
     "name": "stdout",
     "output_type": "stream",
     "text": [
      "✔ Download and installation successful\n",
      "You can now load the package via spacy.load('en_core_web_lg')\n"
     ]
    }
   ],
   "source": [
    "# import spacy\n",
    "# spacy.cli.download('en_core_web_lg')"
   ],
   "metadata": {
    "collapsed": false,
    "pycharm": {
     "name": "#%%\n"
    }
   }
  },
  {
   "cell_type": "code",
   "execution_count": 5,
   "outputs": [],
   "source": [
    "import spacy\n",
    "nlp = spacy.load('en_core_web_lg')"
   ],
   "metadata": {
    "collapsed": false,
    "pycharm": {
     "name": "#%%\n"
    }
   }
  },
  {
   "cell_type": "code",
   "execution_count": 8,
   "outputs": [
    {
     "name": "stdout",
     "output_type": "stream",
     "text": [
      "['4', '47', 'pm']\n"
     ]
    }
   ],
   "source": [
    "doc = nlp(\"4 47 pm\")\n",
    "print([token.text for token in doc])"
   ],
   "metadata": {
    "collapsed": false,
    "pycharm": {
     "name": "#%%\n"
    }
   }
  },
  {
   "cell_type": "code",
   "execution_count": 12,
   "outputs": [],
   "source": [
    "from spacy.matcher import Matcher\n",
    "matcher = Matcher(nlp.vocab)\n",
    "pattern = [{'IS_DIGIT': True}, {'IS_DIGIT': True}, {'LOWER':{'REGEX': \"^[ap]m$\"}}]\n",
    "matcher.add('CUSTOM_TIME', [pattern])"
   ],
   "metadata": {
    "collapsed": false,
    "pycharm": {
     "name": "#%%\n"
    }
   }
  },
  {
   "cell_type": "code",
   "execution_count": 23,
   "outputs": [
    {
     "name": "stdout",
     "output_type": "stream",
     "text": [
      "[4 20 pm, 3 39 pm, 3 38 pm]\n"
     ]
    }
   ],
   "source": [
    "text = main_data_nodup['clean_text'][25]\n",
    "\n",
    "doc = nlp(text)\n",
    "matches = matcher(doc)\n",
    "print([doc[start:end] for match_id, start, end in matches])"
   ],
   "metadata": {
    "collapsed": false,
    "pycharm": {
     "name": "#%%\n"
    }
   }
  },
  {
   "cell_type": "code",
   "execution_count": 14,
   "outputs": [
    {
     "data": {
      "text/plain": "<IPython.core.display.HTML object>",
      "text/html": "<span class=\"tex2jax_ignore\"><div class=\"entities\" style=\"line-height: 2.5; direction: ltr\">killing \n<mark class=\"entity\" style=\"background: #7aecec; padding: 0.45em 0.6em; margin: 0 0.25em; line-height: 1; border-radius: 0.35em;\">\n    ena\n    <span style=\"font-size: 0.8em; font-weight: bold; line-height: 1; border-radius: 0.35em; vertical-align: middle; margin-left: 0.5rem\">ORG</span>\n</mark>\n to ena deals in sitara i talked to \n<mark class=\"entity\" style=\"background: #aa9cfc; padding: 0.45em 0.6em; margin: 0 0.25em; line-height: 1; border-radius: 0.35em;\">\n    matt\n    <span style=\"font-size: 0.8em; font-weight: bold; line-height: 1; border-radius: 0.35em; vertical-align: middle; margin-left: 0.5rem\">PERSON</span>\n</mark>\n we ll \n<mark class=\"entity\" style=\"background: #e4e7d2; padding: 0.45em 0.6em; margin: 0 0.25em; line-height: 1; border-radius: 0.35em;\">\n    zero\n    <span style=\"font-size: 0.8em; font-weight: bold; line-height: 1; border-radius: 0.35em; vertical-align: middle; margin-left: 0.5rem\">CARDINAL</span>\n</mark>\n these deals out as opposed to killing them thanks original message from jaquet \n<mark class=\"entity\" style=\"background: #aa9cfc; padding: 0.45em 0.6em; margin: 0 0.25em; line-height: 1; border-radius: 0.35em;\">\n    tammy\n    <span style=\"font-size: 0.8em; font-weight: bold; line-height: 1; border-radius: 0.35em; vertical-align: middle; margin-left: 0.5rem\">PERSON</span>\n</mark>\n sent \n<mark class=\"entity\" style=\"background: #bfe1d9; padding: 0.45em 0.6em; margin: 0 0.25em; line-height: 1; border-radius: 0.35em;\">\n    thursday december 13 2001 4 20 pm\n    <span style=\"font-size: 0.8em; font-weight: bold; line-height: 1; border-radius: 0.35em; vertical-align: middle; margin-left: 0.5rem\">DATE</span>\n</mark>\n to farmer daren j heal \n<mark class=\"entity\" style=\"background: #aa9cfc; padding: 0.45em 0.6em; margin: 0 0.25em; line-height: 1; border-radius: 0.35em;\">\n    kevin kinsey lisa lamadrid victor smith\n    <span style=\"font-size: 0.8em; font-weight: bold; line-height: 1; border-radius: 0.35em; vertical-align: middle; margin-left: 0.5rem\">PERSON</span>\n</mark>\n \n<mark class=\"entity\" style=\"background: #aa9cfc; padding: 0.45em 0.6em; margin: 0 0.25em; line-height: 1; border-radius: 0.35em;\">\n    george f sullivan patti\n    <span style=\"font-size: 0.8em; font-weight: bold; line-height: 1; border-radius: 0.35em; vertical-align: middle; margin-left: 0.5rem\">PERSON</span>\n</mark>\n cc superty \n<mark class=\"entity\" style=\"background: #aa9cfc; padding: 0.45em 0.6em; margin: 0 0.25em; line-height: 1; border-radius: 0.35em;\">\n    robert\n    <span style=\"font-size: 0.8em; font-weight: bold; line-height: 1; border-radius: 0.35em; vertical-align: middle; margin-left: 0.5rem\">PERSON</span>\n</mark>\n subject killing \n<mark class=\"entity\" style=\"background: #aa9cfc; padding: 0.45em 0.6em; margin: 0 0.25em; line-height: 1; border-radius: 0.35em;\">\n    ena\n    <span style=\"font-size: 0.8em; font-weight: bold; line-height: 1; border-radius: 0.35em; vertical-align: middle; margin-left: 0.5rem\">PERSON</span>\n</mark>\n to ena deals in sitara original message from \n<mark class=\"entity\" style=\"background: #aa9cfc; padding: 0.45em 0.6em; margin: 0 0.25em; line-height: 1; border-radius: 0.35em;\">\n    pena matt\n    <span style=\"font-size: 0.8em; font-weight: bold; line-height: 1; border-radius: 0.35em; vertical-align: middle; margin-left: 0.5rem\">PERSON</span>\n</mark>\n sent \n<mark class=\"entity\" style=\"background: #bfe1d9; padding: 0.45em 0.6em; margin: 0 0.25em; line-height: 1; border-radius: 0.35em;\">\n    thursday december 13 2001 3\n    <span style=\"font-size: 0.8em; font-weight: bold; line-height: 1; border-radius: 0.35em; vertical-align: middle; margin-left: 0.5rem\">DATE</span>\n</mark>\n \n<mark class=\"entity\" style=\"background: #bfe1d9; padding: 0.45em 0.6em; margin: 0 0.25em; line-height: 1; border-radius: 0.35em;\">\n    39 pm\n    <span style=\"font-size: 0.8em; font-weight: bold; line-height: 1; border-radius: 0.35em; vertical-align: middle; margin-left: 0.5rem\">TIME</span>\n</mark>\n to \n<mark class=\"entity\" style=\"background: #aa9cfc; padding: 0.45em 0.6em; margin: 0 0.25em; line-height: 1; border-radius: 0.35em;\">\n    krishnaswamy jayant pinion\n    <span style=\"font-size: 0.8em; font-weight: bold; line-height: 1; border-radius: 0.35em; vertical-align: middle; margin-left: 0.5rem\">PERSON</span>\n</mark>\n \n<mark class=\"entity\" style=\"background: #aa9cfc; padding: 0.45em 0.6em; margin: 0 0.25em; line-height: 1; border-radius: 0.35em;\">\n    richard\n    <span style=\"font-size: 0.8em; font-weight: bold; line-height: 1; border-radius: 0.35em; vertical-align: middle; margin-left: 0.5rem\">PERSON</span>\n</mark>\n jaquet \n<mark class=\"entity\" style=\"background: #aa9cfc; padding: 0.45em 0.6em; margin: 0 0.25em; line-height: 1; border-radius: 0.35em;\">\n    tammy cc severson\n    <span style=\"font-size: 0.8em; font-weight: bold; line-height: 1; border-radius: 0.35em; vertical-align: middle; margin-left: 0.5rem\">PERSON</span>\n</mark>\n \n<mark class=\"entity\" style=\"background: #aa9cfc; padding: 0.45em 0.6em; margin: 0 0.25em; line-height: 1; border-radius: 0.35em;\">\n    russ truong dat aybar luis ma felicia\n    <span style=\"font-size: 0.8em; font-weight: bold; line-height: 1; border-radius: 0.35em; vertical-align: middle; margin-left: 0.5rem\">PERSON</span>\n</mark>\n subject killing \n<mark class=\"entity\" style=\"background: #aa9cfc; padding: 0.45em 0.6em; margin: 0 0.25em; line-height: 1; border-radius: 0.35em;\">\n    ena\n    <span style=\"font-size: 0.8em; font-weight: bold; line-height: 1; border-radius: 0.35em; vertical-align: middle; margin-left: 0.5rem\">PERSON</span>\n</mark>\n to ena deals in sitara thanks \n<mark class=\"entity\" style=\"background: #aa9cfc; padding: 0.45em 0.6em; margin: 0 0.25em; line-height: 1; border-radius: 0.35em;\">\n    jay tammy richard\n    <span style=\"font-size: 0.8em; font-weight: bold; line-height: 1; border-radius: 0.35em; vertical-align: middle; margin-left: 0.5rem\">PERSON</span>\n</mark>\n you may want to let the schedulers know although they may already original message from \n<mark class=\"entity\" style=\"background: #aa9cfc; padding: 0.45em 0.6em; margin: 0 0.25em; line-height: 1; border-radius: 0.35em;\">\n    krishnaswamy jayant\n    <span style=\"font-size: 0.8em; font-weight: bold; line-height: 1; border-radius: 0.35em; vertical-align: middle; margin-left: 0.5rem\">PERSON</span>\n</mark>\n sent \n<mark class=\"entity\" style=\"background: #bfe1d9; padding: 0.45em 0.6em; margin: 0 0.25em; line-height: 1; border-radius: 0.35em;\">\n    thursday december 13 2001 3\n    <span style=\"font-size: 0.8em; font-weight: bold; line-height: 1; border-radius: 0.35em; vertical-align: middle; margin-left: 0.5rem\">DATE</span>\n</mark>\n \n<mark class=\"entity\" style=\"background: #bfe1d9; padding: 0.45em 0.6em; margin: 0 0.25em; line-height: 1; border-radius: 0.35em;\">\n    38 pm\n    <span style=\"font-size: 0.8em; font-weight: bold; line-height: 1; border-radius: 0.35em; vertical-align: middle; margin-left: 0.5rem\">TIME</span>\n</mark>\n to pinion \n<mark class=\"entity\" style=\"background: #aa9cfc; padding: 0.45em 0.6em; margin: 0 0.25em; line-height: 1; border-radius: 0.35em;\">\n    richard\n    <span style=\"font-size: 0.8em; font-weight: bold; line-height: 1; border-radius: 0.35em; vertical-align: middle; margin-left: 0.5rem\">PERSON</span>\n</mark>\n jaquet \n<mark class=\"entity\" style=\"background: #aa9cfc; padding: 0.45em 0.6em; margin: 0 0.25em; line-height: 1; border-radius: 0.35em;\">\n    tammy cc severson\n    <span style=\"font-size: 0.8em; font-weight: bold; line-height: 1; border-radius: 0.35em; vertical-align: middle; margin-left: 0.5rem\">PERSON</span>\n</mark>\n \n<mark class=\"entity\" style=\"background: #aa9cfc; padding: 0.45em 0.6em; margin: 0 0.25em; line-height: 1; border-radius: 0.35em;\">\n    russ pena\n    <span style=\"font-size: 0.8em; font-weight: bold; line-height: 1; border-radius: 0.35em; vertical-align: middle; margin-left: 0.5rem\">PERSON</span>\n</mark>\n \n<mark class=\"entity\" style=\"background: #aa9cfc; padding: 0.45em 0.6em; margin: 0 0.25em; line-height: 1; border-radius: 0.35em;\">\n    matt truong dat aybar luis ma felicia\n    <span style=\"font-size: 0.8em; font-weight: bold; line-height: 1; border-radius: 0.35em; vertical-align: middle; margin-left: 0.5rem\">PERSON</span>\n</mark>\n subject killing \n<mark class=\"entity\" style=\"background: #aa9cfc; padding: 0.45em 0.6em; margin: 0 0.25em; line-height: 1; border-radius: 0.35em;\">\n    ena\n    <span style=\"font-size: 0.8em; font-weight: bold; line-height: 1; border-radius: 0.35em; vertical-align: middle; margin-left: 0.5rem\">PERSON</span>\n</mark>\n to ena deals in sitara richars \n<mark class=\"entity\" style=\"background: #aa9cfc; padding: 0.45em 0.6em; margin: 0 0.25em; line-height: 1; border-radius: 0.35em;\">\n    tammy\n    <span style=\"font-size: 0.8em; font-weight: bold; line-height: 1; border-radius: 0.35em; vertical-align: middle; margin-left: 0.5rem\">PERSON</span>\n</mark>\n we will be killing \n<mark class=\"entity\" style=\"background: #e4e7d2; padding: 0.45em 0.6em; margin: 0 0.25em; line-height: 1; border-radius: 0.35em;\">\n    about 2000\n    <span style=\"font-size: 0.8em; font-weight: bold; line-height: 1; border-radius: 0.35em; vertical-align: middle; margin-left: 0.5rem\">CARDINAL</span>\n</mark>\n deals in sitara \n<mark class=\"entity\" style=\"background: #bfe1d9; padding: 0.45em 0.6em; margin: 0 0.25em; line-height: 1; border-radius: 0.35em;\">\n    tonight\n    <span style=\"font-size: 0.8em; font-weight: bold; line-height: 1; border-radius: 0.35em; vertical-align: middle; margin-left: 0.5rem\">TIME</span>\n</mark>\n whenever a deal is touched in sitara it will bridge over to unify these are desk \n<mark class=\"entity\" style=\"background: #e4e7d2; padding: 0.45em 0.6em; margin: 0 0.25em; line-height: 1; border-radius: 0.35em;\">\n    2\n    <span style=\"font-size: 0.8em; font-weight: bold; line-height: 1; border-radius: 0.35em; vertical-align: middle; margin-left: 0.5rem\">CARDINAL</span>\n</mark>\n desk deals and should have minimal impact on you</div></span>"
     },
     "metadata": {},
     "output_type": "display_data"
    }
   ],
   "source": [
    "text = main_data_nodup['clean_text'][25]\n",
    "\n",
    "doc = nlp(text)\n",
    "spacy.displacy.render(doc, style='ent')"
   ],
   "metadata": {
    "collapsed": false,
    "pycharm": {
     "name": "#%%\n"
    }
   }
  },
  {
   "cell_type": "code",
   "execution_count": 60,
   "outputs": [
    {
     "data": {
      "text/plain": "['4 20 pm', '3 39 pm', '3 38 pm']"
     },
     "execution_count": 60,
     "metadata": {},
     "output_type": "execute_result"
    }
   ],
   "source": [
    "pattern = re.compile(r'\\d{1} \\d{2} [a-z]{2}')\n",
    "re.findall(pattern, main_data_nodup.clean_text[25])"
   ],
   "metadata": {
    "collapsed": false,
    "pycharm": {
     "name": "#%%\n"
    }
   }
  },
  {
   "cell_type": "code",
   "execution_count": 42,
   "outputs": [
    {
     "data": {
      "text/plain": "['tok2vec', 'tagger', 'parser', 'attribute_ruler', 'lemmatizer', 'ner']"
     },
     "execution_count": 42,
     "metadata": {},
     "output_type": "execute_result"
    }
   ],
   "source": [
    "nlp.pipe_names"
   ],
   "metadata": {
    "collapsed": false,
    "pycharm": {
     "name": "#%%\n"
    }
   }
  },
  {
   "cell_type": "code",
   "execution_count": 61,
   "outputs": [
    {
     "name": "stdout",
     "output_type": "stream",
     "text": [
      "✔ Download and installation successful\n",
      "You can now load the package via spacy.load('en_core_web_md')\n"
     ]
    }
   ],
   "source": [
    "spacy.cli.download('en_core_web_md')"
   ],
   "metadata": {
    "collapsed": false,
    "pycharm": {
     "name": "#%%\n"
    }
   }
  },
  {
   "cell_type": "code",
   "execution_count": 41,
   "outputs": [
    {
     "data": {
      "text/plain": "['tok2vec',\n 'tagger',\n 'parser',\n 'attribute_ruler',\n 'lemmatizer',\n 'entity_ruler',\n 'ner']"
     },
     "execution_count": 41,
     "metadata": {},
     "output_type": "execute_result"
    }
   ],
   "source": [
    "ruler = nlp.add_pipe('entity_ruler', before='ner')\n",
    "ruler.add_patterns([{\"label\":\"CUSTOM_TIME\",\n",
    "                     \"pattern\":[{'IS_DIGIT': True}, {'IS_DIGIT': True}, {'LOWER':{'REGEX': \"^[ap]m$\"}}]}])\n",
    "nlp.pipe_names"
   ],
   "metadata": {
    "collapsed": false,
    "pycharm": {
     "name": "#%%\n"
    }
   }
  },
  {
   "cell_type": "code",
   "execution_count": 40,
   "outputs": [
    {
     "data": {
      "text/plain": "('entity_ruler', <spacy.pipeline.entityruler.EntityRuler at 0x157d01d0f88>)"
     },
     "execution_count": 40,
     "metadata": {},
     "output_type": "execute_result"
    }
   ],
   "source": [
    "# nlp.remove_pipe('entity_ruler')"
   ],
   "metadata": {
    "collapsed": false,
    "pycharm": {
     "name": "#%%\n"
    }
   }
  },
  {
   "cell_type": "code",
   "execution_count": 50,
   "outputs": [
    {
     "data": {
      "text/plain": "<IPython.core.display.HTML object>",
      "text/html": "<span class=\"tex2jax_ignore\"><div class=\"entities\" style=\"line-height: 2.5; direction: ltr\">killing \n<mark class=\"entity\" style=\"background: #7aecec; padding: 0.45em 0.6em; margin: 0 0.25em; line-height: 1; border-radius: 0.35em;\">\n    ena\n    <span style=\"font-size: 0.8em; font-weight: bold; line-height: 1; border-radius: 0.35em; vertical-align: middle; margin-left: 0.5rem\">ORG</span>\n</mark>\n to ena deals in sitara i talked to \n<mark class=\"entity\" style=\"background: #aa9cfc; padding: 0.45em 0.6em; margin: 0 0.25em; line-height: 1; border-radius: 0.35em;\">\n    matt\n    <span style=\"font-size: 0.8em; font-weight: bold; line-height: 1; border-radius: 0.35em; vertical-align: middle; margin-left: 0.5rem\">PERSON</span>\n</mark>\n we ll \n<mark class=\"entity\" style=\"background: #e4e7d2; padding: 0.45em 0.6em; margin: 0 0.25em; line-height: 1; border-radius: 0.35em;\">\n    zero\n    <span style=\"font-size: 0.8em; font-weight: bold; line-height: 1; border-radius: 0.35em; vertical-align: middle; margin-left: 0.5rem\">CARDINAL</span>\n</mark>\n these deals out as opposed to killing them thanks original message from jaquet \n<mark class=\"entity\" style=\"background: #aa9cfc; padding: 0.45em 0.6em; margin: 0 0.25em; line-height: 1; border-radius: 0.35em;\">\n    tammy\n    <span style=\"font-size: 0.8em; font-weight: bold; line-height: 1; border-radius: 0.35em; vertical-align: middle; margin-left: 0.5rem\">PERSON</span>\n</mark>\n sent \n<mark class=\"entity\" style=\"background: #bfe1d9; padding: 0.45em 0.6em; margin: 0 0.25em; line-height: 1; border-radius: 0.35em;\">\n    thursday december 13 2001\n    <span style=\"font-size: 0.8em; font-weight: bold; line-height: 1; border-radius: 0.35em; vertical-align: middle; margin-left: 0.5rem\">DATE</span>\n</mark>\n \n<mark class=\"entity\" style=\"background: #ddd; padding: 0.45em 0.6em; margin: 0 0.25em; line-height: 1; border-radius: 0.35em;\">\n    4 20 pm\n    <span style=\"font-size: 0.8em; font-weight: bold; line-height: 1; border-radius: 0.35em; vertical-align: middle; margin-left: 0.5rem\">CUSTOM_TIME</span>\n</mark>\n to farmer daren j heal \n<mark class=\"entity\" style=\"background: #aa9cfc; padding: 0.45em 0.6em; margin: 0 0.25em; line-height: 1; border-radius: 0.35em;\">\n    kevin kinsey lisa lamadrid victor smith\n    <span style=\"font-size: 0.8em; font-weight: bold; line-height: 1; border-radius: 0.35em; vertical-align: middle; margin-left: 0.5rem\">PERSON</span>\n</mark>\n \n<mark class=\"entity\" style=\"background: #aa9cfc; padding: 0.45em 0.6em; margin: 0 0.25em; line-height: 1; border-radius: 0.35em;\">\n    george f sullivan patti\n    <span style=\"font-size: 0.8em; font-weight: bold; line-height: 1; border-radius: 0.35em; vertical-align: middle; margin-left: 0.5rem\">PERSON</span>\n</mark>\n cc superty \n<mark class=\"entity\" style=\"background: #aa9cfc; padding: 0.45em 0.6em; margin: 0 0.25em; line-height: 1; border-radius: 0.35em;\">\n    robert\n    <span style=\"font-size: 0.8em; font-weight: bold; line-height: 1; border-radius: 0.35em; vertical-align: middle; margin-left: 0.5rem\">PERSON</span>\n</mark>\n subject killing \n<mark class=\"entity\" style=\"background: #aa9cfc; padding: 0.45em 0.6em; margin: 0 0.25em; line-height: 1; border-radius: 0.35em;\">\n    ena\n    <span style=\"font-size: 0.8em; font-weight: bold; line-height: 1; border-radius: 0.35em; vertical-align: middle; margin-left: 0.5rem\">PERSON</span>\n</mark>\n to ena deals in sitara original message from \n<mark class=\"entity\" style=\"background: #aa9cfc; padding: 0.45em 0.6em; margin: 0 0.25em; line-height: 1; border-radius: 0.35em;\">\n    pena matt\n    <span style=\"font-size: 0.8em; font-weight: bold; line-height: 1; border-radius: 0.35em; vertical-align: middle; margin-left: 0.5rem\">PERSON</span>\n</mark>\n sent \n<mark class=\"entity\" style=\"background: #bfe1d9; padding: 0.45em 0.6em; margin: 0 0.25em; line-height: 1; border-radius: 0.35em;\">\n    thursday december 13 2001\n    <span style=\"font-size: 0.8em; font-weight: bold; line-height: 1; border-radius: 0.35em; vertical-align: middle; margin-left: 0.5rem\">DATE</span>\n</mark>\n \n<mark class=\"entity\" style=\"background: #ddd; padding: 0.45em 0.6em; margin: 0 0.25em; line-height: 1; border-radius: 0.35em;\">\n    3 39 pm\n    <span style=\"font-size: 0.8em; font-weight: bold; line-height: 1; border-radius: 0.35em; vertical-align: middle; margin-left: 0.5rem\">CUSTOM_TIME</span>\n</mark>\n to \n<mark class=\"entity\" style=\"background: #aa9cfc; padding: 0.45em 0.6em; margin: 0 0.25em; line-height: 1; border-radius: 0.35em;\">\n    krishnaswamy jayant pinion\n    <span style=\"font-size: 0.8em; font-weight: bold; line-height: 1; border-radius: 0.35em; vertical-align: middle; margin-left: 0.5rem\">PERSON</span>\n</mark>\n \n<mark class=\"entity\" style=\"background: #aa9cfc; padding: 0.45em 0.6em; margin: 0 0.25em; line-height: 1; border-radius: 0.35em;\">\n    richard\n    <span style=\"font-size: 0.8em; font-weight: bold; line-height: 1; border-radius: 0.35em; vertical-align: middle; margin-left: 0.5rem\">PERSON</span>\n</mark>\n jaquet \n<mark class=\"entity\" style=\"background: #aa9cfc; padding: 0.45em 0.6em; margin: 0 0.25em; line-height: 1; border-radius: 0.35em;\">\n    tammy cc severson\n    <span style=\"font-size: 0.8em; font-weight: bold; line-height: 1; border-radius: 0.35em; vertical-align: middle; margin-left: 0.5rem\">PERSON</span>\n</mark>\n \n<mark class=\"entity\" style=\"background: #aa9cfc; padding: 0.45em 0.6em; margin: 0 0.25em; line-height: 1; border-radius: 0.35em;\">\n    russ truong dat aybar luis ma felicia\n    <span style=\"font-size: 0.8em; font-weight: bold; line-height: 1; border-radius: 0.35em; vertical-align: middle; margin-left: 0.5rem\">PERSON</span>\n</mark>\n subject killing \n<mark class=\"entity\" style=\"background: #aa9cfc; padding: 0.45em 0.6em; margin: 0 0.25em; line-height: 1; border-radius: 0.35em;\">\n    ena\n    <span style=\"font-size: 0.8em; font-weight: bold; line-height: 1; border-radius: 0.35em; vertical-align: middle; margin-left: 0.5rem\">PERSON</span>\n</mark>\n to ena deals in sitara thanks \n<mark class=\"entity\" style=\"background: #aa9cfc; padding: 0.45em 0.6em; margin: 0 0.25em; line-height: 1; border-radius: 0.35em;\">\n    jay tammy richard\n    <span style=\"font-size: 0.8em; font-weight: bold; line-height: 1; border-radius: 0.35em; vertical-align: middle; margin-left: 0.5rem\">PERSON</span>\n</mark>\n you may want to let the schedulers know although they may already original message from \n<mark class=\"entity\" style=\"background: #aa9cfc; padding: 0.45em 0.6em; margin: 0 0.25em; line-height: 1; border-radius: 0.35em;\">\n    krishnaswamy jayant\n    <span style=\"font-size: 0.8em; font-weight: bold; line-height: 1; border-radius: 0.35em; vertical-align: middle; margin-left: 0.5rem\">PERSON</span>\n</mark>\n sent \n<mark class=\"entity\" style=\"background: #bfe1d9; padding: 0.45em 0.6em; margin: 0 0.25em; line-height: 1; border-radius: 0.35em;\">\n    thursday december 13 2001\n    <span style=\"font-size: 0.8em; font-weight: bold; line-height: 1; border-radius: 0.35em; vertical-align: middle; margin-left: 0.5rem\">DATE</span>\n</mark>\n \n<mark class=\"entity\" style=\"background: #ddd; padding: 0.45em 0.6em; margin: 0 0.25em; line-height: 1; border-radius: 0.35em;\">\n    3 38 pm\n    <span style=\"font-size: 0.8em; font-weight: bold; line-height: 1; border-radius: 0.35em; vertical-align: middle; margin-left: 0.5rem\">CUSTOM_TIME</span>\n</mark>\n to pinion \n<mark class=\"entity\" style=\"background: #aa9cfc; padding: 0.45em 0.6em; margin: 0 0.25em; line-height: 1; border-radius: 0.35em;\">\n    richard\n    <span style=\"font-size: 0.8em; font-weight: bold; line-height: 1; border-radius: 0.35em; vertical-align: middle; margin-left: 0.5rem\">PERSON</span>\n</mark>\n jaquet \n<mark class=\"entity\" style=\"background: #aa9cfc; padding: 0.45em 0.6em; margin: 0 0.25em; line-height: 1; border-radius: 0.35em;\">\n    tammy cc severson\n    <span style=\"font-size: 0.8em; font-weight: bold; line-height: 1; border-radius: 0.35em; vertical-align: middle; margin-left: 0.5rem\">PERSON</span>\n</mark>\n \n<mark class=\"entity\" style=\"background: #aa9cfc; padding: 0.45em 0.6em; margin: 0 0.25em; line-height: 1; border-radius: 0.35em;\">\n    russ pena\n    <span style=\"font-size: 0.8em; font-weight: bold; line-height: 1; border-radius: 0.35em; vertical-align: middle; margin-left: 0.5rem\">PERSON</span>\n</mark>\n \n<mark class=\"entity\" style=\"background: #aa9cfc; padding: 0.45em 0.6em; margin: 0 0.25em; line-height: 1; border-radius: 0.35em;\">\n    matt truong dat aybar luis ma felicia\n    <span style=\"font-size: 0.8em; font-weight: bold; line-height: 1; border-radius: 0.35em; vertical-align: middle; margin-left: 0.5rem\">PERSON</span>\n</mark>\n subject killing \n<mark class=\"entity\" style=\"background: #aa9cfc; padding: 0.45em 0.6em; margin: 0 0.25em; line-height: 1; border-radius: 0.35em;\">\n    ena\n    <span style=\"font-size: 0.8em; font-weight: bold; line-height: 1; border-radius: 0.35em; vertical-align: middle; margin-left: 0.5rem\">PERSON</span>\n</mark>\n to ena deals in sitara richars \n<mark class=\"entity\" style=\"background: #aa9cfc; padding: 0.45em 0.6em; margin: 0 0.25em; line-height: 1; border-radius: 0.35em;\">\n    tammy\n    <span style=\"font-size: 0.8em; font-weight: bold; line-height: 1; border-radius: 0.35em; vertical-align: middle; margin-left: 0.5rem\">PERSON</span>\n</mark>\n we will be killing \n<mark class=\"entity\" style=\"background: #e4e7d2; padding: 0.45em 0.6em; margin: 0 0.25em; line-height: 1; border-radius: 0.35em;\">\n    about 2000\n    <span style=\"font-size: 0.8em; font-weight: bold; line-height: 1; border-radius: 0.35em; vertical-align: middle; margin-left: 0.5rem\">CARDINAL</span>\n</mark>\n deals in sitara \n<mark class=\"entity\" style=\"background: #bfe1d9; padding: 0.45em 0.6em; margin: 0 0.25em; line-height: 1; border-radius: 0.35em;\">\n    tonight\n    <span style=\"font-size: 0.8em; font-weight: bold; line-height: 1; border-radius: 0.35em; vertical-align: middle; margin-left: 0.5rem\">TIME</span>\n</mark>\n whenever a deal is touched in sitara it will bridge over to unify these are desk \n<mark class=\"entity\" style=\"background: #e4e7d2; padding: 0.45em 0.6em; margin: 0 0.25em; line-height: 1; border-radius: 0.35em;\">\n    2\n    <span style=\"font-size: 0.8em; font-weight: bold; line-height: 1; border-radius: 0.35em; vertical-align: middle; margin-left: 0.5rem\">CARDINAL</span>\n</mark>\n desk deals and should have minimal impact on you</div></span>"
     },
     "metadata": {},
     "output_type": "display_data"
    }
   ],
   "source": [
    "spacy.displacy.render(nlp(main_data_nodup.clean_text[25]), style='ent')"
   ],
   "metadata": {
    "collapsed": false,
    "pycharm": {
     "name": "#%%\n"
    }
   }
  },
  {
   "cell_type": "code",
   "execution_count": 46,
   "outputs": [],
   "source": [
    "import re\n",
    "def concat_words(s):\n",
    "    doc_ents = nlp(s).ents\n",
    "\n",
    "    tagged_text = s\n",
    "    for tag in doc_ents:\n",
    "        tagged_text = re.sub(tag.text, \"_\".join(tag.text.split()), tagged_text)\n",
    "\n",
    "    return tagged_text\n"
   ],
   "metadata": {
    "collapsed": false,
    "pycharm": {
     "name": "#%%\n"
    }
   }
  },
  {
   "cell_type": "code",
   "execution_count": 47,
   "outputs": [
    {
     "name": "stdout",
     "output_type": "stream",
     "text": [
      "killing ena to ena deals in sitara i talked to matt we ll zero these deals out as opposed to killing them thanks original message from jaquet tammy sent thursday_december_13_2001 4_20_pm to farmer daren j heal kevin_kinsey_lisa_lamadrid_victor_smith george_f_sullivan_patti cc superty robert subject killing ena to ena deals in sitara original message from pena_matt sent thursday_december_13_2001 3_39_pm to krishnaswamy_jayant_pinion richard jaquet tammy_cc_severson russ_truong_dat_aybar_luis_ma_felicia subject killing ena to ena deals in sitara thanks jay_tammy_richard you may want to let the schedulers know although they may already original message from krishnaswamy_jayant sent thursday_december_13_2001 3_38_pm to pinion richard jaquet tammy_cc_severson russ_pena_matt_truong_dat_aybar_luis_ma_felicia subject killing ena to ena deals in sitara richars tammy we will be killing about_2000 deals in sitara tonight whenever a deal is touched in sitara it will bridge over to unify these are desk 2 desk deals and should have minimal impact on you\n"
     ]
    }
   ],
   "source": [
    "tag_text = concat_words(main_data_nodup['clean_text'][25])\n",
    "print(tag_text)"
   ],
   "metadata": {
    "collapsed": false,
    "pycharm": {
     "name": "#%%\n"
    }
   }
  },
  {
   "cell_type": "code",
   "execution_count": 48,
   "outputs": [],
   "source": [
    "main_data_nodup['good_text'] = main_data_nodup['clean_text'].apply(concat_words)"
   ],
   "metadata": {
    "collapsed": false,
    "pycharm": {
     "name": "#%%\n"
    }
   }
  },
  {
   "cell_type": "code",
   "execution_count": 49,
   "outputs": [
    {
     "data": {
      "text/plain": "'killing ena to ena deals in sitara i talked to matt we ll zero these deals out as opposed to killing them thanks original message from jaquet tammy sent thursday_december_13_2001 4_20_pm to farmer daren j heal kevin_kinsey_lisa_lamadrid_victor_smith george_f_sullivan_patti cc superty robert subject killing ena to ena deals in sitara original message from pena_matt sent thursday_december_13_2001 3_39_pm to krishnaswamy_jayant_pinion richard jaquet tammy_cc_severson russ_truong_dat_aybar_luis_ma_felicia subject killing ena to ena deals in sitara thanks jay_tammy_richard you may want to let the schedulers know although they may already original message from krishnaswamy_jayant sent thursday_december_13_2001 3_38_pm to pinion richard jaquet tammy_cc_severson russ_pena_matt_truong_dat_aybar_luis_ma_felicia subject killing ena to ena deals in sitara richars tammy we will be killing about_2000 deals in sitara tonight whenever a deal is touched in sitara it will bridge over to unify these are desk 2 desk deals and should have minimal impact on you'"
     },
     "execution_count": 49,
     "metadata": {},
     "output_type": "execute_result"
    }
   ],
   "source": [
    "main_data_nodup.good_text[25]"
   ],
   "metadata": {
    "collapsed": false,
    "pycharm": {
     "name": "#%%\n"
    }
   }
  },
  {
   "cell_type": "code",
   "execution_count": 51,
   "metadata": {
    "id": "aAVPyHpJPznF",
    "pycharm": {
     "name": "#%%\n"
    }
   },
   "outputs": [],
   "source": [
    "from nltk.tokenize import word_tokenize\n",
    "from nltk.corpus import stopwords\n",
    "\n",
    "main_data_nodup['good_text']=main_data_nodup['good_text'].apply(word_tokenize)\n",
    "main_data_nodup['good_text']=main_data_nodup['good_text'].apply(lambda x:[word for word in x if word not in set(stopwords.words('english'))])\n",
    "main_data_nodup['good_text']=main_data_nodup['good_text'].apply(lambda x:' '.join(x))"
   ]
  },
  {
   "cell_type": "code",
   "execution_count": 52,
   "metadata": {
    "colab": {
     "base_uri": "https://localhost:8080/",
     "height": 52
    },
    "id": "8GQfQSQDPznF",
    "outputId": "5eba7b20-95dd-48a8-c7e8-f6eced2c1e97",
    "pycharm": {
     "name": "#%%\n"
    }
   },
   "outputs": [
    {
     "data": {
      "text/plain": "'killing ena ena deals sitara talked matt zero deals opposed killing thanks original message jaquet tammy sent thursday_december_13_2001 4_20_pm farmer daren j heal kevin_kinsey_lisa_lamadrid_victor_smith george_f_sullivan_patti cc superty robert subject killing ena ena deals sitara original message pena_matt sent thursday_december_13_2001 3_39_pm krishnaswamy_jayant_pinion richard jaquet tammy_cc_severson russ_truong_dat_aybar_luis_ma_felicia subject killing ena ena deals sitara thanks jay_tammy_richard may want let schedulers know although may already original message krishnaswamy_jayant sent thursday_december_13_2001 3_38_pm pinion richard jaquet tammy_cc_severson russ_pena_matt_truong_dat_aybar_luis_ma_felicia subject killing ena ena deals sitara richars tammy killing about_2000 deals sitara tonight whenever deal touched sitara bridge unify desk 2 desk deals minimal impact'"
     },
     "execution_count": 52,
     "metadata": {},
     "output_type": "execute_result"
    }
   ],
   "source": [
    "main_data_nodup.good_text[25]"
   ]
  },
  {
   "cell_type": "code",
   "execution_count": 53,
   "outputs": [],
   "source": [
    "main_data_nodup.to_csv(\"main_data_nodup.csv\", index=None)"
   ],
   "metadata": {
    "collapsed": false,
    "pycharm": {
     "name": "#%%\n"
    }
   }
  },
  {
   "cell_type": "code",
   "execution_count": 16,
   "metadata": {
    "id": "rZDnrcSYAyBe",
    "pycharm": {
     "name": "#%%\n"
    }
   },
   "outputs": [],
   "source": [
    "from sklearn.feature_extraction.text import TfidfVectorizer\n",
    "tfidf=TfidfVectorizer(min_df=2, max_df=0.7)\n",
    "X=tfidf.fit_transform(email_data['text']).toarray()\n",
    "y=email_data['label_num']"
   ]
  },
  {
   "cell_type": "code",
   "execution_count": 17,
   "metadata": {
    "id": "3xh8xxSYDJAK",
    "pycharm": {
     "name": "#%%\n"
    }
   },
   "outputs": [],
   "source": [
    "from sklearn.model_selection import train_test_split\n",
    "X_train,X_test,y_train,y_test=train_test_split(X,y,test_size=0.2,random_state=0)"
   ]
  },
  {
   "cell_type": "code",
   "execution_count": 18,
   "metadata": {
    "colab": {
     "base_uri": "https://localhost:8080/"
    },
    "id": "Naen7dxYEu6E",
    "outputId": "3bac2fdb-0ac5-4069-fdc6-72a35d1af571",
    "pycharm": {
     "name": "#%%\n"
    }
   },
   "outputs": [
    {
     "data": {
      "text/plain": [
       "(4136, 45595)"
      ]
     },
     "execution_count": 18,
     "metadata": {
      "tags": []
     },
     "output_type": "execute_result"
    }
   ],
   "source": [
    "X_train.shape"
   ]
  },
  {
   "cell_type": "code",
   "execution_count": 19,
   "metadata": {
    "colab": {
     "base_uri": "https://localhost:8080/"
    },
    "id": "edWMDgEyE2nN",
    "outputId": "88b503a8-8e7b-4b43-d7cc-71f6dc4af580",
    "pycharm": {
     "name": "#%%\n"
    }
   },
   "outputs": [
    {
     "data": {
      "text/plain": [
       "GaussianNB(priors=None, var_smoothing=1e-09)"
      ]
     },
     "execution_count": 19,
     "metadata": {
      "tags": []
     },
     "output_type": "execute_result"
    }
   ],
   "source": [
    "from sklearn.naive_bayes import GaussianNB\n",
    "nb_clf=GaussianNB()\n",
    "nb_clf.fit(X_train,y_train)"
   ]
  },
  {
   "cell_type": "code",
   "execution_count": 20,
   "metadata": {
    "id": "QGyknIOqFMtO",
    "pycharm": {
     "name": "#%%\n"
    }
   },
   "outputs": [],
   "source": [
    "y_pred=nb_clf.predict(X_test)"
   ]
  },
  {
   "cell_type": "code",
   "execution_count": 21,
   "metadata": {
    "colab": {
     "base_uri": "https://localhost:8080/"
    },
    "id": "Ih22WeeZFVuR",
    "outputId": "c6156466-faf4-498c-adbb-e41db04c53c8",
    "pycharm": {
     "name": "#%%\n"
    }
   },
   "outputs": [
    {
     "data": {
      "text/plain": [
       "0.9536231884057971"
      ]
     },
     "execution_count": 21,
     "metadata": {
      "tags": []
     },
     "output_type": "execute_result"
    }
   ],
   "source": [
    "from sklearn.metrics import accuracy_score as ac\n",
    "ac(y_test,y_pred)"
   ]
  },
  {
   "cell_type": "code",
   "execution_count": 22,
   "metadata": {
    "colab": {
     "base_uri": "https://localhost:8080/"
    },
    "id": "qaIvJquyST_F",
    "outputId": "ce6fc15f-d735-4b9e-d524-fa644a4daeaf",
    "pycharm": {
     "name": "#%%\n"
    }
   },
   "outputs": [
    {
     "data": {
      "text/plain": [
       "LogisticRegression(C=1.0, class_weight=None, dual=False, fit_intercept=True,\n",
       "                   intercept_scaling=1, l1_ratio=None, max_iter=100,\n",
       "                   multi_class='auto', n_jobs=None, penalty='l2',\n",
       "                   random_state=None, solver='lbfgs', tol=0.0001, verbose=0,\n",
       "                   warm_start=False)"
      ]
     },
     "execution_count": 22,
     "metadata": {
      "tags": []
     },
     "output_type": "execute_result"
    }
   ],
   "source": [
    "from sklearn.linear_model import LogisticRegression\n",
    "lr=LogisticRegression()\n",
    "lr.fit(X_train,y_train)"
   ]
  },
  {
   "cell_type": "code",
   "execution_count": 23,
   "metadata": {
    "id": "jjugBX-DSvft",
    "pycharm": {
     "name": "#%%\n"
    }
   },
   "outputs": [],
   "source": [
    "y_pred1=lr.predict(X_test)"
   ]
  },
  {
   "cell_type": "code",
   "execution_count": 24,
   "metadata": {
    "colab": {
     "base_uri": "https://localhost:8080/"
    },
    "id": "5YsBoFPiS3HU",
    "outputId": "a4903e06-2e94-4a06-ef2b-721fa6fc78b7",
    "pycharm": {
     "name": "#%%\n"
    }
   },
   "outputs": [
    {
     "data": {
      "text/plain": [
       "0.9874396135265701"
      ]
     },
     "execution_count": 24,
     "metadata": {
      "tags": []
     },
     "output_type": "execute_result"
    }
   ],
   "source": [
    "ac(y_test,y_pred1)"
   ]
  }
 ],
 "metadata": {
  "colab": {
   "name": "Email_Spam_Classification_modified.ipynb",
   "provenance": []
  },
  "kernelspec": {
   "display_name": "Python 3 (ipykernel)",
   "language": "python",
   "name": "python3"
  },
  "language_info": {
   "codemirror_mode": {
    "name": "ipython",
    "version": 3
   },
   "file_extension": ".py",
   "mimetype": "text/x-python",
   "name": "python",
   "nbconvert_exporter": "python",
   "pygments_lexer": "ipython3",
   "version": "3.7.9"
  }
 },
 "nbformat": 4,
 "nbformat_minor": 1
}